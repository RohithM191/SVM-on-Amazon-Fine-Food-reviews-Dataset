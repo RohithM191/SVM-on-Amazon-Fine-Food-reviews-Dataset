{
 "cells": [
  {
   "cell_type": "markdown",
   "metadata": {
    "colab_type": "text",
    "id": "xg0oRgOwRZ2x"
   },
   "source": [
    "# Amazon Fine Food Reviews Analysis\n",
    "\n",
    "\n",
    "Data Source: https://www.kaggle.com/snap/amazon-fine-food-reviews <br>\n",
    "\n",
    "EDA: https://nycdatascience.com/blog/student-works/amazon-fine-foods-visualization/\n",
    "\n",
    "\n",
    "The Amazon Fine Food Reviews dataset consists of reviews of fine foods from Amazon.<br>\n",
    "\n",
    "Number of reviews: 568,454<br>\n",
    "Number of users: 256,059<br>\n",
    "Number of products: 74,258<br>\n",
    "Timespan: Oct 1999 - Oct 2012<br>\n",
    "Number of Attributes/Columns in data: 10 \n",
    "\n",
    "Attribute Information:\n",
    "\n",
    "1. Id\n",
    "2. ProductId - unique identifier for the product\n",
    "3. UserId - unqiue identifier for the user\n",
    "4. ProfileName\n",
    "5. HelpfulnessNumerator - number of users who found the review helpful\n",
    "6. HelpfulnessDenominator - number of users who indicated whether they found the review helpful or not\n",
    "7. Score - rating between 1 and 5\n",
    "8. Time - timestamp for the review\n",
    "9. Summary - brief summary of the review\n",
    "10. Text - text of the review\n",
    "\n",
    "\n",
    "#### Objective:\n",
    "Given a review, determine whether the review is positive (rating of 4 or 5) or negative (rating of 1 or 2).\n",
    "\n",
    "<br>\n",
    "[Q] How to determine if a review is positive or negative?<br>\n",
    "<br> \n",
    "[Ans] We could use Score/Rating. A rating of 4 or 5 can be cosnidered as a positive review. A rating of 1 or 2 can be considered as negative one. A review of rating 3 is considered nuetral and such reviews are ignored from our analysis. This is an approximate and proxy way of determining the polarity (positivity/negativity) of a review.\n",
    "\n",
    "\n"
   ]
  },
  {
   "cell_type": "markdown",
   "metadata": {
    "colab_type": "text",
    "id": "ZFgRwtEdRZ20"
   },
   "source": [
    "# [1]. Reading Data"
   ]
  },
  {
   "cell_type": "markdown",
   "metadata": {
    "colab_type": "text",
    "id": "8INC4842RZ21"
   },
   "source": [
    "## [1.1] Loading the data\n",
    "\n",
    "The dataset is available in two forms\n",
    "1. .csv file\n",
    "2. SQLite Database\n",
    "\n",
    "In order to load the data, We have used the SQLITE dataset as it is easier to query the data and visualise the data efficiently.\n",
    "<br> \n",
    "\n",
    "Here as we only want to get the global sentiment of the recommendations (positive or negative), we will purposefully ignore all Scores equal to 3. If the score is above 3, then the recommendation wil be set to \"positive\". Otherwise, it will be set to \"negative\"."
   ]
  },
  {
   "cell_type": "code",
   "execution_count": 0,
   "metadata": {
    "colab": {},
    "colab_type": "code",
    "id": "aNMjjbfvRZ23"
   },
   "outputs": [],
   "source": [
    "%matplotlib inline\n",
    "import warnings\n",
    "warnings.filterwarnings(\"ignore\")\n",
    "\n",
    "\n",
    "import sqlite3\n",
    "import pandas as pd\n",
    "import numpy as np\n",
    "import nltk\n",
    "import string\n",
    "import matplotlib.pyplot as plt\n",
    "import seaborn as sns\n",
    "from sklearn.feature_extraction.text import TfidfTransformer\n",
    "from sklearn.feature_extraction.text import TfidfVectorizer\n",
    "\n",
    "from sklearn.feature_extraction.text import CountVectorizer\n",
    "from sklearn.metrics import confusion_matrix\n",
    "from sklearn import metrics\n",
    "from sklearn.metrics import roc_curve, auc\n",
    "from nltk.stem.porter import PorterStemmer\n",
    "\n",
    "import re\n",
    "# Tutorial about Python regular expressions: https://pymotw.com/2/re/\n",
    "import string\n",
    "from nltk.corpus import stopwords\n",
    "from nltk.stem import PorterStemmer\n",
    "from nltk.stem.wordnet import WordNetLemmatizer\n",
    "\n",
    "from gensim.models import Word2Vec\n",
    "from gensim.models import KeyedVectors\n",
    "import pickle\n",
    "\n",
    "from tqdm import tqdm\n",
    "import os"
   ]
  },
  {
   "cell_type": "code",
   "execution_count": 5,
   "metadata": {
    "colab": {
     "base_uri": "https://localhost:8080/",
     "height": 426
    },
    "colab_type": "code",
    "id": "Zl6Lxh6LRZ2-",
    "outputId": "847c6ffe-5f2e-40f2-e560-4eec98bb26a9"
   },
   "outputs": [
    {
     "name": "stdout",
     "output_type": "stream",
     "text": [
      "Number of data points in our data (525814, 10)\n"
     ]
    },
    {
     "data": {
      "text/html": [
       "<div>\n",
       "<style scoped>\n",
       "    .dataframe tbody tr th:only-of-type {\n",
       "        vertical-align: middle;\n",
       "    }\n",
       "\n",
       "    .dataframe tbody tr th {\n",
       "        vertical-align: top;\n",
       "    }\n",
       "\n",
       "    .dataframe thead th {\n",
       "        text-align: right;\n",
       "    }\n",
       "</style>\n",
       "<table border=\"1\" class=\"dataframe\">\n",
       "  <thead>\n",
       "    <tr style=\"text-align: right;\">\n",
       "      <th></th>\n",
       "      <th>Id</th>\n",
       "      <th>ProductId</th>\n",
       "      <th>UserId</th>\n",
       "      <th>ProfileName</th>\n",
       "      <th>HelpfulnessNumerator</th>\n",
       "      <th>HelpfulnessDenominator</th>\n",
       "      <th>Score</th>\n",
       "      <th>Time</th>\n",
       "      <th>Summary</th>\n",
       "      <th>Text</th>\n",
       "    </tr>\n",
       "  </thead>\n",
       "  <tbody>\n",
       "    <tr>\n",
       "      <th>0</th>\n",
       "      <td>1</td>\n",
       "      <td>B001E4KFG0</td>\n",
       "      <td>A3SGXH7AUHU8GW</td>\n",
       "      <td>delmartian</td>\n",
       "      <td>1</td>\n",
       "      <td>1</td>\n",
       "      <td>1</td>\n",
       "      <td>1303862400</td>\n",
       "      <td>Good Quality Dog Food</td>\n",
       "      <td>I have bought several of the Vitality canned d...</td>\n",
       "    </tr>\n",
       "    <tr>\n",
       "      <th>1</th>\n",
       "      <td>2</td>\n",
       "      <td>B00813GRG4</td>\n",
       "      <td>A1D87F6ZCVE5NK</td>\n",
       "      <td>dll pa</td>\n",
       "      <td>0</td>\n",
       "      <td>0</td>\n",
       "      <td>0</td>\n",
       "      <td>1346976000</td>\n",
       "      <td>Not as Advertised</td>\n",
       "      <td>Product arrived labeled as Jumbo Salted Peanut...</td>\n",
       "    </tr>\n",
       "    <tr>\n",
       "      <th>2</th>\n",
       "      <td>3</td>\n",
       "      <td>B000LQOCH0</td>\n",
       "      <td>ABXLMWJIXXAIN</td>\n",
       "      <td>Natalia Corres \"Natalia Corres\"</td>\n",
       "      <td>1</td>\n",
       "      <td>1</td>\n",
       "      <td>1</td>\n",
       "      <td>1219017600</td>\n",
       "      <td>\"Delight\" says it all</td>\n",
       "      <td>This is a confection that has been around a fe...</td>\n",
       "    </tr>\n",
       "  </tbody>\n",
       "</table>\n",
       "</div>"
      ],
      "text/plain": [
       "   Id  ...                                               Text\n",
       "0   1  ...  I have bought several of the Vitality canned d...\n",
       "1   2  ...  Product arrived labeled as Jumbo Salted Peanut...\n",
       "2   3  ...  This is a confection that has been around a fe...\n",
       "\n",
       "[3 rows x 10 columns]"
      ]
     },
     "execution_count": 5,
     "metadata": {
      "tags": []
     },
     "output_type": "execute_result"
    }
   ],
   "source": [
    "# using SQLite Table to read data.\n",
    "con = sqlite3.connect('/content/drive/My Drive/amazon/database.sqlite') \n",
    "\n",
    "# filtering only positive and negative reviews i.e. \n",
    "# not taking into consideration those reviews with Score=3\n",
    "# SELECT * FROM Reviews WHERE Score != 3 LIMIT 500000, will give top 500000 data points\n",
    "# you can change the number to any other number based on your computing power\n",
    "\n",
    "# filtered_data = pd.read_sql_query(\"\"\" SELECT * FROM Reviews WHERE Score != 3 LIMIT 500000\"\"\", con) \n",
    "# for tsne assignment you can take 5k data points\n",
    "\n",
    "filtered_data = pd.read_sql_query(\"\"\" SELECT * FROM Reviews WHERE Score != 3 \"\"\", con) \n",
    "\n",
    "# Give reviews with Score>3 a positive rating(1), and reviews with a score<3 a negative rating(0).\n",
    "def partition(x):\n",
    "    if x < 3:\n",
    "        return 0\n",
    "    return 1\n",
    "\n",
    "#changing reviews with score less than 3 to be positive and vice-versa\n",
    "actualScore = filtered_data['Score']\n",
    "positiveNegative = actualScore.map(partition) \n",
    "filtered_data['Score'] = positiveNegative\n",
    "print(\"Number of data points in our data\", filtered_data.shape)\n",
    "filtered_data.head(3)"
   ]
  },
  {
   "cell_type": "code",
   "execution_count": 0,
   "metadata": {
    "colab": {},
    "colab_type": "code",
    "id": "yVoNY4Z3RZ3J"
   },
   "outputs": [],
   "source": [
    "display = pd.read_sql_query(\"\"\"\n",
    "SELECT UserId, ProductId, ProfileName, Time, Score, Text, COUNT(*)\n",
    "FROM Reviews\n",
    "GROUP BY UserId\n",
    "HAVING COUNT(*)>1\n",
    "\"\"\", con)"
   ]
  },
  {
   "cell_type": "code",
   "execution_count": 7,
   "metadata": {
    "colab": {
     "base_uri": "https://localhost:8080/",
     "height": 297
    },
    "colab_type": "code",
    "id": "XwlCUcQhRZ3O",
    "outputId": "6c20fa48-16d0-4e00-f021-219d084df958",
    "scrolled": true
   },
   "outputs": [
    {
     "name": "stdout",
     "output_type": "stream",
     "text": [
      "(80668, 7)\n"
     ]
    },
    {
     "data": {
      "text/html": [
       "<div>\n",
       "<style scoped>\n",
       "    .dataframe tbody tr th:only-of-type {\n",
       "        vertical-align: middle;\n",
       "    }\n",
       "\n",
       "    .dataframe tbody tr th {\n",
       "        vertical-align: top;\n",
       "    }\n",
       "\n",
       "    .dataframe thead th {\n",
       "        text-align: right;\n",
       "    }\n",
       "</style>\n",
       "<table border=\"1\" class=\"dataframe\">\n",
       "  <thead>\n",
       "    <tr style=\"text-align: right;\">\n",
       "      <th></th>\n",
       "      <th>UserId</th>\n",
       "      <th>ProductId</th>\n",
       "      <th>ProfileName</th>\n",
       "      <th>Time</th>\n",
       "      <th>Score</th>\n",
       "      <th>Text</th>\n",
       "      <th>COUNT(*)</th>\n",
       "    </tr>\n",
       "  </thead>\n",
       "  <tbody>\n",
       "    <tr>\n",
       "      <th>0</th>\n",
       "      <td>#oc-R115TNMSPFT9I7</td>\n",
       "      <td>B007Y59HVM</td>\n",
       "      <td>Breyton</td>\n",
       "      <td>1331510400</td>\n",
       "      <td>2</td>\n",
       "      <td>Overall its just OK when considering the price...</td>\n",
       "      <td>2</td>\n",
       "    </tr>\n",
       "    <tr>\n",
       "      <th>1</th>\n",
       "      <td>#oc-R11D9D7SHXIJB9</td>\n",
       "      <td>B005HG9ET0</td>\n",
       "      <td>Louis E. Emory \"hoppy\"</td>\n",
       "      <td>1342396800</td>\n",
       "      <td>5</td>\n",
       "      <td>My wife has recurring extreme muscle spasms, u...</td>\n",
       "      <td>3</td>\n",
       "    </tr>\n",
       "    <tr>\n",
       "      <th>2</th>\n",
       "      <td>#oc-R11DNU2NBKQ23Z</td>\n",
       "      <td>B007Y59HVM</td>\n",
       "      <td>Kim Cieszykowski</td>\n",
       "      <td>1348531200</td>\n",
       "      <td>1</td>\n",
       "      <td>This coffee is horrible and unfortunately not ...</td>\n",
       "      <td>2</td>\n",
       "    </tr>\n",
       "    <tr>\n",
       "      <th>3</th>\n",
       "      <td>#oc-R11O5J5ZVQE25C</td>\n",
       "      <td>B005HG9ET0</td>\n",
       "      <td>Penguin Chick</td>\n",
       "      <td>1346889600</td>\n",
       "      <td>5</td>\n",
       "      <td>This will be the bottle that you grab from the...</td>\n",
       "      <td>3</td>\n",
       "    </tr>\n",
       "    <tr>\n",
       "      <th>4</th>\n",
       "      <td>#oc-R12KPBODL2B5ZD</td>\n",
       "      <td>B007OSBE1U</td>\n",
       "      <td>Christopher P. Presta</td>\n",
       "      <td>1348617600</td>\n",
       "      <td>1</td>\n",
       "      <td>I didnt like this coffee. Instead of telling y...</td>\n",
       "      <td>2</td>\n",
       "    </tr>\n",
       "  </tbody>\n",
       "</table>\n",
       "</div>"
      ],
      "text/plain": [
       "               UserId  ... COUNT(*)\n",
       "0  #oc-R115TNMSPFT9I7  ...        2\n",
       "1  #oc-R11D9D7SHXIJB9  ...        3\n",
       "2  #oc-R11DNU2NBKQ23Z  ...        2\n",
       "3  #oc-R11O5J5ZVQE25C  ...        3\n",
       "4  #oc-R12KPBODL2B5ZD  ...        2\n",
       "\n",
       "[5 rows x 7 columns]"
      ]
     },
     "execution_count": 7,
     "metadata": {
      "tags": []
     },
     "output_type": "execute_result"
    }
   ],
   "source": [
    "print(display.shape)\n",
    "display.head()"
   ]
  },
  {
   "cell_type": "code",
   "execution_count": 8,
   "metadata": {
    "colab": {
     "base_uri": "https://localhost:8080/",
     "height": 94
    },
    "colab_type": "code",
    "id": "91bajqDWRZ3V",
    "outputId": "3ad4e113-d76f-4174-c852-aaaa39b90237"
   },
   "outputs": [
    {
     "data": {
      "text/html": [
       "<div>\n",
       "<style scoped>\n",
       "    .dataframe tbody tr th:only-of-type {\n",
       "        vertical-align: middle;\n",
       "    }\n",
       "\n",
       "    .dataframe tbody tr th {\n",
       "        vertical-align: top;\n",
       "    }\n",
       "\n",
       "    .dataframe thead th {\n",
       "        text-align: right;\n",
       "    }\n",
       "</style>\n",
       "<table border=\"1\" class=\"dataframe\">\n",
       "  <thead>\n",
       "    <tr style=\"text-align: right;\">\n",
       "      <th></th>\n",
       "      <th>UserId</th>\n",
       "      <th>ProductId</th>\n",
       "      <th>ProfileName</th>\n",
       "      <th>Time</th>\n",
       "      <th>Score</th>\n",
       "      <th>Text</th>\n",
       "      <th>COUNT(*)</th>\n",
       "    </tr>\n",
       "  </thead>\n",
       "  <tbody>\n",
       "    <tr>\n",
       "      <th>80638</th>\n",
       "      <td>AZY10LLTJ71NX</td>\n",
       "      <td>B006P7E5ZI</td>\n",
       "      <td>undertheshrine \"undertheshrine\"</td>\n",
       "      <td>1334707200</td>\n",
       "      <td>5</td>\n",
       "      <td>I was recommended to try green tea extract to ...</td>\n",
       "      <td>5</td>\n",
       "    </tr>\n",
       "  </tbody>\n",
       "</table>\n",
       "</div>"
      ],
      "text/plain": [
       "              UserId  ... COUNT(*)\n",
       "80638  AZY10LLTJ71NX  ...        5\n",
       "\n",
       "[1 rows x 7 columns]"
      ]
     },
     "execution_count": 8,
     "metadata": {
      "tags": []
     },
     "output_type": "execute_result"
    }
   ],
   "source": [
    "display[display['UserId']=='AZY10LLTJ71NX']"
   ]
  },
  {
   "cell_type": "code",
   "execution_count": 9,
   "metadata": {
    "colab": {
     "base_uri": "https://localhost:8080/",
     "height": 34
    },
    "colab_type": "code",
    "id": "HfqBZI7qRZ3c",
    "outputId": "2488d8da-6c26-4b57-9e90-1df751ccced8"
   },
   "outputs": [
    {
     "data": {
      "text/plain": [
       "393063"
      ]
     },
     "execution_count": 9,
     "metadata": {
      "tags": []
     },
     "output_type": "execute_result"
    }
   ],
   "source": [
    "display['COUNT(*)'].sum()"
   ]
  },
  {
   "cell_type": "markdown",
   "metadata": {
    "colab_type": "text",
    "id": "x_3Wm_AdRZ3j"
   },
   "source": [
    "#  [2] Exploratory Data Analysis"
   ]
  },
  {
   "cell_type": "markdown",
   "metadata": {
    "colab_type": "text",
    "id": "SA9cjowIRZ3s"
   },
   "source": [
    "## [2.1] Data Cleaning: Deduplication\n",
    "\n",
    "It is observed (as shown in the table below) that the reviews data had many duplicate entries. Hence it was necessary to remove duplicates in order to get unbiased results for the analysis of the data.  Following is an example:"
   ]
  },
  {
   "cell_type": "code",
   "execution_count": 10,
   "metadata": {
    "colab": {
     "base_uri": "https://localhost:8080/",
     "height": 551
    },
    "colab_type": "code",
    "id": "JSyii1EnRZ3t",
    "outputId": "6cd2c5b2-cce1-4cf4-8003-6e4bc2b30a98",
    "scrolled": false
   },
   "outputs": [
    {
     "data": {
      "text/html": [
       "<div>\n",
       "<style scoped>\n",
       "    .dataframe tbody tr th:only-of-type {\n",
       "        vertical-align: middle;\n",
       "    }\n",
       "\n",
       "    .dataframe tbody tr th {\n",
       "        vertical-align: top;\n",
       "    }\n",
       "\n",
       "    .dataframe thead th {\n",
       "        text-align: right;\n",
       "    }\n",
       "</style>\n",
       "<table border=\"1\" class=\"dataframe\">\n",
       "  <thead>\n",
       "    <tr style=\"text-align: right;\">\n",
       "      <th></th>\n",
       "      <th>Id</th>\n",
       "      <th>ProductId</th>\n",
       "      <th>UserId</th>\n",
       "      <th>ProfileName</th>\n",
       "      <th>HelpfulnessNumerator</th>\n",
       "      <th>HelpfulnessDenominator</th>\n",
       "      <th>Score</th>\n",
       "      <th>Time</th>\n",
       "      <th>Summary</th>\n",
       "      <th>Text</th>\n",
       "    </tr>\n",
       "  </thead>\n",
       "  <tbody>\n",
       "    <tr>\n",
       "      <th>0</th>\n",
       "      <td>78445</td>\n",
       "      <td>B000HDL1RQ</td>\n",
       "      <td>AR5J8UI46CURR</td>\n",
       "      <td>Geetha Krishnan</td>\n",
       "      <td>2</td>\n",
       "      <td>2</td>\n",
       "      <td>5</td>\n",
       "      <td>1199577600</td>\n",
       "      <td>LOACKER QUADRATINI VANILLA WAFERS</td>\n",
       "      <td>DELICIOUS WAFERS. I FIND THAT EUROPEAN WAFERS ...</td>\n",
       "    </tr>\n",
       "    <tr>\n",
       "      <th>1</th>\n",
       "      <td>138317</td>\n",
       "      <td>B000HDOPYC</td>\n",
       "      <td>AR5J8UI46CURR</td>\n",
       "      <td>Geetha Krishnan</td>\n",
       "      <td>2</td>\n",
       "      <td>2</td>\n",
       "      <td>5</td>\n",
       "      <td>1199577600</td>\n",
       "      <td>LOACKER QUADRATINI VANILLA WAFERS</td>\n",
       "      <td>DELICIOUS WAFERS. I FIND THAT EUROPEAN WAFERS ...</td>\n",
       "    </tr>\n",
       "    <tr>\n",
       "      <th>2</th>\n",
       "      <td>138277</td>\n",
       "      <td>B000HDOPYM</td>\n",
       "      <td>AR5J8UI46CURR</td>\n",
       "      <td>Geetha Krishnan</td>\n",
       "      <td>2</td>\n",
       "      <td>2</td>\n",
       "      <td>5</td>\n",
       "      <td>1199577600</td>\n",
       "      <td>LOACKER QUADRATINI VANILLA WAFERS</td>\n",
       "      <td>DELICIOUS WAFERS. I FIND THAT EUROPEAN WAFERS ...</td>\n",
       "    </tr>\n",
       "    <tr>\n",
       "      <th>3</th>\n",
       "      <td>73791</td>\n",
       "      <td>B000HDOPZG</td>\n",
       "      <td>AR5J8UI46CURR</td>\n",
       "      <td>Geetha Krishnan</td>\n",
       "      <td>2</td>\n",
       "      <td>2</td>\n",
       "      <td>5</td>\n",
       "      <td>1199577600</td>\n",
       "      <td>LOACKER QUADRATINI VANILLA WAFERS</td>\n",
       "      <td>DELICIOUS WAFERS. I FIND THAT EUROPEAN WAFERS ...</td>\n",
       "    </tr>\n",
       "    <tr>\n",
       "      <th>4</th>\n",
       "      <td>155049</td>\n",
       "      <td>B000PAQ75C</td>\n",
       "      <td>AR5J8UI46CURR</td>\n",
       "      <td>Geetha Krishnan</td>\n",
       "      <td>2</td>\n",
       "      <td>2</td>\n",
       "      <td>5</td>\n",
       "      <td>1199577600</td>\n",
       "      <td>LOACKER QUADRATINI VANILLA WAFERS</td>\n",
       "      <td>DELICIOUS WAFERS. I FIND THAT EUROPEAN WAFERS ...</td>\n",
       "    </tr>\n",
       "  </tbody>\n",
       "</table>\n",
       "</div>"
      ],
      "text/plain": [
       "       Id  ...                                               Text\n",
       "0   78445  ...  DELICIOUS WAFERS. I FIND THAT EUROPEAN WAFERS ...\n",
       "1  138317  ...  DELICIOUS WAFERS. I FIND THAT EUROPEAN WAFERS ...\n",
       "2  138277  ...  DELICIOUS WAFERS. I FIND THAT EUROPEAN WAFERS ...\n",
       "3   73791  ...  DELICIOUS WAFERS. I FIND THAT EUROPEAN WAFERS ...\n",
       "4  155049  ...  DELICIOUS WAFERS. I FIND THAT EUROPEAN WAFERS ...\n",
       "\n",
       "[5 rows x 10 columns]"
      ]
     },
     "execution_count": 10,
     "metadata": {
      "tags": []
     },
     "output_type": "execute_result"
    }
   ],
   "source": [
    "display= pd.read_sql_query(\"\"\"\n",
    "SELECT *\n",
    "FROM Reviews\n",
    "WHERE Score != 3 AND UserId=\"AR5J8UI46CURR\"\n",
    "ORDER BY ProductID\n",
    "\"\"\", con)\n",
    "display.head()"
   ]
  },
  {
   "cell_type": "markdown",
   "metadata": {
    "colab_type": "text",
    "id": "mrIsdJdvRZ32"
   },
   "source": [
    "As it can be seen above that same user has multiple reviews with same values for HelpfulnessNumerator, HelpfulnessDenominator, Score, Time, Summary and Text and on doing analysis it was found that <br>\n",
    "<br> \n",
    "ProductId=B000HDOPZG was Loacker Quadratini Vanilla Wafer Cookies, 8.82-Ounce Packages (Pack of 8)<br>\n",
    "<br> \n",
    "ProductId=B000HDL1RQ was Loacker Quadratini Lemon Wafer Cookies, 8.82-Ounce Packages (Pack of 8) and so on<br>\n",
    "\n",
    "It was inferred after analysis that reviews with same parameters other than ProductId belonged to the same product just having different flavour or quantity. Hence in order to reduce redundancy it was decided to eliminate the rows having same parameters.<br>\n",
    "\n",
    "The method used for the same was that we first sort the data according to ProductId and then just keep the first similar product review and delelte the others. for eg. in the above just the review for ProductId=B000HDL1RQ remains. This method ensures that there is only one representative for each product and deduplication without sorting would lead to possibility of different representatives still existing for the same product."
   ]
  },
  {
   "cell_type": "code",
   "execution_count": 0,
   "metadata": {
    "colab": {},
    "colab_type": "code",
    "id": "fTxQa_O5RZ34"
   },
   "outputs": [],
   "source": [
    "#Sorting data according to ProductId in ascending order\n",
    "sorted_data=filtered_data.sort_values('ProductId', axis=0, ascending=True, inplace=False, kind='quicksort', na_position='last')"
   ]
  },
  {
   "cell_type": "code",
   "execution_count": 12,
   "metadata": {
    "colab": {
     "base_uri": "https://localhost:8080/",
     "height": 34
    },
    "colab_type": "code",
    "id": "vaBh_HvzRZ39",
    "outputId": "9a458107-3327-49b2-c51a-24c6b93f6c9d"
   },
   "outputs": [
    {
     "data": {
      "text/plain": [
       "(364173, 10)"
      ]
     },
     "execution_count": 12,
     "metadata": {
      "tags": []
     },
     "output_type": "execute_result"
    }
   ],
   "source": [
    "#Deduplication of entries\n",
    "final=sorted_data.drop_duplicates(subset={\"UserId\",\"ProfileName\",\"Time\",\"Text\"}, keep='first', inplace=False)\n",
    "final.shape"
   ]
  },
  {
   "cell_type": "code",
   "execution_count": 13,
   "metadata": {
    "colab": {
     "base_uri": "https://localhost:8080/",
     "height": 34
    },
    "colab_type": "code",
    "id": "7SFTUWkRRZ4E",
    "outputId": "2d714722-413e-4e44-b558-368668a848a7"
   },
   "outputs": [
    {
     "data": {
      "text/plain": [
       "69.25890143662969"
      ]
     },
     "execution_count": 13,
     "metadata": {
      "tags": []
     },
     "output_type": "execute_result"
    }
   ],
   "source": [
    "#Checking to see how much % of data still remains\n",
    "(final['Id'].size*1.0)/(filtered_data['Id'].size*1.0)*100"
   ]
  },
  {
   "cell_type": "markdown",
   "metadata": {
    "colab_type": "text",
    "id": "uI-8KXFNRZ4L"
   },
   "source": [
    "<b>Observation:-</b> It was also seen that in two rows given below the value of HelpfulnessNumerator is greater than HelpfulnessDenominator which is not practically possible hence these two rows too are removed from calcualtions"
   ]
  },
  {
   "cell_type": "code",
   "execution_count": 14,
   "metadata": {
    "colab": {
     "base_uri": "https://localhost:8080/",
     "height": 328
    },
    "colab_type": "code",
    "id": "gGfvJtmWRZ4M",
    "outputId": "7f86f80f-c6b0-4400-93a1-eac6d35112d0"
   },
   "outputs": [
    {
     "data": {
      "text/html": [
       "<div>\n",
       "<style scoped>\n",
       "    .dataframe tbody tr th:only-of-type {\n",
       "        vertical-align: middle;\n",
       "    }\n",
       "\n",
       "    .dataframe tbody tr th {\n",
       "        vertical-align: top;\n",
       "    }\n",
       "\n",
       "    .dataframe thead th {\n",
       "        text-align: right;\n",
       "    }\n",
       "</style>\n",
       "<table border=\"1\" class=\"dataframe\">\n",
       "  <thead>\n",
       "    <tr style=\"text-align: right;\">\n",
       "      <th></th>\n",
       "      <th>Id</th>\n",
       "      <th>ProductId</th>\n",
       "      <th>UserId</th>\n",
       "      <th>ProfileName</th>\n",
       "      <th>HelpfulnessNumerator</th>\n",
       "      <th>HelpfulnessDenominator</th>\n",
       "      <th>Score</th>\n",
       "      <th>Time</th>\n",
       "      <th>Summary</th>\n",
       "      <th>Text</th>\n",
       "    </tr>\n",
       "  </thead>\n",
       "  <tbody>\n",
       "    <tr>\n",
       "      <th>0</th>\n",
       "      <td>64422</td>\n",
       "      <td>B000MIDROQ</td>\n",
       "      <td>A161DK06JJMCYF</td>\n",
       "      <td>J. E. Stephens \"Jeanne\"</td>\n",
       "      <td>3</td>\n",
       "      <td>1</td>\n",
       "      <td>5</td>\n",
       "      <td>1224892800</td>\n",
       "      <td>Bought This for My Son at College</td>\n",
       "      <td>My son loves spaghetti so I didn't hesitate or...</td>\n",
       "    </tr>\n",
       "    <tr>\n",
       "      <th>1</th>\n",
       "      <td>44737</td>\n",
       "      <td>B001EQ55RW</td>\n",
       "      <td>A2V0I904FH7ABY</td>\n",
       "      <td>Ram</td>\n",
       "      <td>3</td>\n",
       "      <td>2</td>\n",
       "      <td>4</td>\n",
       "      <td>1212883200</td>\n",
       "      <td>Pure cocoa taste with crunchy almonds inside</td>\n",
       "      <td>It was almost a 'love at first bite' - the per...</td>\n",
       "    </tr>\n",
       "  </tbody>\n",
       "</table>\n",
       "</div>"
      ],
      "text/plain": [
       "      Id  ...                                               Text\n",
       "0  64422  ...  My son loves spaghetti so I didn't hesitate or...\n",
       "1  44737  ...  It was almost a 'love at first bite' - the per...\n",
       "\n",
       "[2 rows x 10 columns]"
      ]
     },
     "execution_count": 14,
     "metadata": {
      "tags": []
     },
     "output_type": "execute_result"
    }
   ],
   "source": [
    "display= pd.read_sql_query(\"\"\"\n",
    "SELECT *\n",
    "FROM Reviews\n",
    "WHERE Score != 3 AND Id=44737 OR Id=64422\n",
    "ORDER BY ProductID\n",
    "\"\"\", con)\n",
    "\n",
    "display.head()"
   ]
  },
  {
   "cell_type": "code",
   "execution_count": 0,
   "metadata": {
    "colab": {},
    "colab_type": "code",
    "id": "R917kyLTRZ4b"
   },
   "outputs": [],
   "source": [
    "final=final[final.HelpfulnessNumerator<=final.HelpfulnessDenominator]"
   ]
  },
  {
   "cell_type": "code",
   "execution_count": 16,
   "metadata": {
    "colab": {
     "base_uri": "https://localhost:8080/",
     "height": 87
    },
    "colab_type": "code",
    "id": "Pm7qxx6IRZ4k",
    "outputId": "88824b8c-9115-4e74-cff1-4c25845eae9a"
   },
   "outputs": [
    {
     "name": "stdout",
     "output_type": "stream",
     "text": [
      "(364171, 10)\n"
     ]
    },
    {
     "data": {
      "text/plain": [
       "1    307061\n",
       "0     57110\n",
       "Name: Score, dtype: int64"
      ]
     },
     "execution_count": 16,
     "metadata": {
      "tags": []
     },
     "output_type": "execute_result"
    }
   ],
   "source": [
    "#Before starting the next phase of preprocessing lets see the number of entries left\n",
    "print(final.shape)\n",
    "\n",
    "#How many positive and negative reviews are present in our dataset?\n",
    "final['Score'].value_counts()"
   ]
  },
  {
   "cell_type": "markdown",
   "metadata": {
    "colab_type": "text",
    "id": "eILJiOyRRZ4s"
   },
   "source": [
    "#  [3] Preprocessing"
   ]
  },
  {
   "cell_type": "markdown",
   "metadata": {
    "colab_type": "text",
    "id": "_MSyA-ucRZ4u"
   },
   "source": [
    "## [3.1].  Preprocessing Review Text\n",
    "\n",
    "Now that we have finished deduplication our data requires some preprocessing before we go on further with analysis and making the prediction model.\n",
    "\n",
    "Hence in the Preprocessing phase we do the following in the order below:-\n",
    "\n",
    "1. Begin by removing the html tags\n",
    "2. Remove any punctuations or limited set of special characters like , or . or # etc.\n",
    "3. Check if the word is made up of english letters and is not alpha-numeric\n",
    "4. Check to see if the length of the word is greater than 2 (as it was researched that there is no adjective in 2-letters)\n",
    "5. Convert the word to lowercase\n",
    "6. Remove Stopwords\n",
    "7. Finally Snowball Stemming the word (it was obsereved to be better than Porter Stemming)<br>\n",
    "\n",
    "After which we collect the words used to describe positive and negative reviews"
   ]
  },
  {
   "cell_type": "code",
   "execution_count": 17,
   "metadata": {
    "colab": {
     "base_uri": "https://localhost:8080/",
     "height": 178
    },
    "colab_type": "code",
    "id": "HKOLd7EvRZ4w",
    "outputId": "fa9d50c4-481a-4a2a-e569-dd4d5e254810"
   },
   "outputs": [
    {
     "name": "stdout",
     "output_type": "stream",
     "text": [
      "this witty little book makes my son laugh at loud. i recite it in the car as we're driving along and he always can sing the refrain. he's learned about whales, India, drooping roses:  i love all the new words this book  introduces and the silliness of it all.  this is a classic book i am  willing to bet my son will STILL be able to recite from memory when he is  in college\n",
      "==================================================\n",
      "I was really looking forward to these pods based on the reviews.  Starbucks is good, but I prefer bolder taste.... imagine my surprise when I ordered 2 boxes - both were expired! One expired back in 2005 for gosh sakes.  I admit that Amazon agreed to credit me for cost plus part of shipping, but geez, 2 years expired!!!  I'm hoping to find local San Diego area shoppe that carries pods so that I can try something different than starbucks.\n",
      "==================================================\n",
      "Great ingredients although, chicken should have been 1st rather than chicken broth, the only thing I do not think belongs in it is Canola oil. Canola or rapeseed is not someting a dog would ever find in nature and if it did find rapeseed in nature and eat it, it would poison them. Today's Food industries have convinced the masses that Canola oil is a safe and even better oil than olive or virgin coconut, facts though say otherwise. Until the late 70's it was poisonous until they figured out a way to fix that. I still like it but it could be better.\n",
      "==================================================\n",
      "Can't do sugar.  Have tried scores of SF Syrups.  NONE of them can touch the excellence of this product.<br /><br />Thick, delicious.  Perfect.  3 ingredients: Water, Maltitol, Natural Maple Flavor.  PERIOD.  No chemicals.  No garbage.<br /><br />Have numerous friends & family members hooked on this stuff.  My husband & son, who do NOT like \"sugar free\" prefer this over major label regular syrup.<br /><br />I use this as my SWEETENER in baking: cheesecakes, white brownies, muffins, pumpkin pies, etc... Unbelievably delicious...<br /><br />Can you tell I like it? :)\n",
      "==================================================\n"
     ]
    }
   ],
   "source": [
    "# printing some random reviews\n",
    "sent_0 = final['Text'].values[0]\n",
    "print(sent_0)\n",
    "print(\"=\"*50)\n",
    "\n",
    "sent_1000 = final['Text'].values[1000]\n",
    "print(sent_1000)\n",
    "print(\"=\"*50)\n",
    "\n",
    "sent_1500 = final['Text'].values[1500]\n",
    "print(sent_1500)\n",
    "print(\"=\"*50)\n",
    "\n",
    "sent_4900 = final['Text'].values[4900]\n",
    "print(sent_4900)\n",
    "print(\"=\"*50)"
   ]
  },
  {
   "cell_type": "code",
   "execution_count": 18,
   "metadata": {
    "colab": {
     "base_uri": "https://localhost:8080/",
     "height": 54
    },
    "colab_type": "code",
    "id": "lBkWiIhQRZ44",
    "outputId": "414260a4-adc0-4c37-d155-f20790f47380"
   },
   "outputs": [
    {
     "name": "stdout",
     "output_type": "stream",
     "text": [
      "this witty little book makes my son laugh at loud. i recite it in the car as we're driving along and he always can sing the refrain. he's learned about whales, India, drooping roses:  i love all the new words this book  introduces and the silliness of it all.  this is a classic book i am  willing to bet my son will STILL be able to recite from memory when he is  in college\n"
     ]
    }
   ],
   "source": [
    "# remove urls from text python: https://stackoverflow.com/a/40823105/4084039\n",
    "sent_0 = re.sub(r\"http\\S+\", \"\", sent_0)\n",
    "sent_1000 = re.sub(r\"http\\S+\", \"\", sent_1000)\n",
    "sent_150 = re.sub(r\"http\\S+\", \"\", sent_1500)\n",
    "sent_4900 = re.sub(r\"http\\S+\", \"\", sent_4900)\n",
    "\n",
    "print(sent_0)"
   ]
  },
  {
   "cell_type": "code",
   "execution_count": 19,
   "metadata": {
    "colab": {
     "base_uri": "https://localhost:8080/",
     "height": 160
    },
    "colab_type": "code",
    "id": "oNKwGgnORZ5O",
    "outputId": "ab3f024b-2019-49b0-f8b7-05584f3a1583"
   },
   "outputs": [
    {
     "name": "stdout",
     "output_type": "stream",
     "text": [
      "this witty little book makes my son laugh at loud. i recite it in the car as we're driving along and he always can sing the refrain. he's learned about whales, India, drooping roses:  i love all the new words this book  introduces and the silliness of it all.  this is a classic book i am  willing to bet my son will STILL be able to recite from memory when he is  in college\n",
      "==================================================\n",
      "I was really looking forward to these pods based on the reviews.  Starbucks is good, but I prefer bolder taste.... imagine my surprise when I ordered 2 boxes - both were expired! One expired back in 2005 for gosh sakes.  I admit that Amazon agreed to credit me for cost plus part of shipping, but geez, 2 years expired!!!  I'm hoping to find local San Diego area shoppe that carries pods so that I can try something different than starbucks.\n",
      "==================================================\n",
      "Great ingredients although, chicken should have been 1st rather than chicken broth, the only thing I do not think belongs in it is Canola oil. Canola or rapeseed is not someting a dog would ever find in nature and if it did find rapeseed in nature and eat it, it would poison them. Today's Food industries have convinced the masses that Canola oil is a safe and even better oil than olive or virgin coconut, facts though say otherwise. Until the late 70's it was poisonous until they figured out a way to fix that. I still like it but it could be better.\n",
      "==================================================\n",
      "Can't do sugar.  Have tried scores of SF Syrups.  NONE of them can touch the excellence of this product.Thick, delicious.  Perfect.  3 ingredients: Water, Maltitol, Natural Maple Flavor.  PERIOD.  No chemicals.  No garbage.Have numerous friends & family members hooked on this stuff.  My husband & son, who do NOT like \"sugar free\" prefer this over major label regular syrup.I use this as my SWEETENER in baking: cheesecakes, white brownies, muffins, pumpkin pies, etc... Unbelievably delicious...Can you tell I like it? :)\n"
     ]
    }
   ],
   "source": [
    "# https://stackoverflow.com/questions/16206380/python-beautifulsoup-how-to-remove-all-tags-from-an-element\n",
    "from bs4 import BeautifulSoup\n",
    "\n",
    "soup = BeautifulSoup(sent_0, 'lxml')\n",
    "text = soup.get_text()\n",
    "print(text)\n",
    "print(\"=\"*50)\n",
    "\n",
    "soup = BeautifulSoup(sent_1000, 'lxml')\n",
    "text = soup.get_text()\n",
    "print(text)\n",
    "print(\"=\"*50)\n",
    "\n",
    "soup = BeautifulSoup(sent_1500, 'lxml')\n",
    "text = soup.get_text()\n",
    "print(text)\n",
    "print(\"=\"*50)\n",
    "\n",
    "soup = BeautifulSoup(sent_4900, 'lxml')\n",
    "text = soup.get_text()\n",
    "print(text)"
   ]
  },
  {
   "cell_type": "code",
   "execution_count": 0,
   "metadata": {
    "colab": {},
    "colab_type": "code",
    "id": "cONn2IjVRZ5X"
   },
   "outputs": [],
   "source": [
    "# https://stackoverflow.com/a/47091490/4084039\n",
    "import re\n",
    "\n",
    "def decontracted(phrase):\n",
    "    # specific\n",
    "    phrase = re.sub(r\"won't\", \"will not\", phrase)\n",
    "    phrase = re.sub(r\"can\\'t\", \"can not\", phrase)\n",
    "\n",
    "    # general\n",
    "    phrase = re.sub(r\"n\\'t\", \" not\", phrase)\n",
    "    phrase = re.sub(r\"\\'re\", \" are\", phrase)\n",
    "    phrase = re.sub(r\"\\'s\", \" is\", phrase)\n",
    "    phrase = re.sub(r\"\\'d\", \" would\", phrase)\n",
    "    phrase = re.sub(r\"\\'ll\", \" will\", phrase)\n",
    "    phrase = re.sub(r\"\\'t\", \" not\", phrase)\n",
    "    phrase = re.sub(r\"\\'ve\", \" have\", phrase)\n",
    "    phrase = re.sub(r\"\\'m\", \" am\", phrase)\n",
    "    return phrase"
   ]
  },
  {
   "cell_type": "code",
   "execution_count": 21,
   "metadata": {
    "colab": {
     "base_uri": "https://localhost:8080/",
     "height": 72
    },
    "colab_type": "code",
    "id": "0ZFpHW1zRZ5b",
    "outputId": "2eb79825-2ca2-480c-fa97-c6ae03a1852d"
   },
   "outputs": [
    {
     "name": "stdout",
     "output_type": "stream",
     "text": [
      "Great ingredients although, chicken should have been 1st rather than chicken broth, the only thing I do not think belongs in it is Canola oil. Canola or rapeseed is not someting a dog would ever find in nature and if it did find rapeseed in nature and eat it, it would poison them. Today is Food industries have convinced the masses that Canola oil is a safe and even better oil than olive or virgin coconut, facts though say otherwise. Until the late 70 is it was poisonous until they figured out a way to fix that. I still like it but it could be better.\n",
      "==================================================\n"
     ]
    }
   ],
   "source": [
    "sent_1500 = decontracted(sent_1500)\n",
    "print(sent_1500)\n",
    "print(\"=\"*50)"
   ]
  },
  {
   "cell_type": "code",
   "execution_count": 22,
   "metadata": {
    "colab": {
     "base_uri": "https://localhost:8080/",
     "height": 54
    },
    "colab_type": "code",
    "id": "8OxbCjoHRZ5h",
    "outputId": "91c4dda3-8e4e-4a73-e161-e4a86eab6fa1"
   },
   "outputs": [
    {
     "name": "stdout",
     "output_type": "stream",
     "text": [
      "this witty little book makes my son laugh at loud. i recite it in the car as we're driving along and he always can sing the refrain. he's learned about whales, India, drooping roses:  i love all the new words this book  introduces and the silliness of it all.  this is a classic book i am  willing to bet my son will STILL be able to recite from memory when he is  in college\n"
     ]
    }
   ],
   "source": [
    "#remove words with numbers python: https://stackoverflow.com/a/18082370/4084039\n",
    "sent_0 = re.sub(\"\\S*\\d\\S*\", \"\", sent_0).strip()\n",
    "print(sent_0)"
   ]
  },
  {
   "cell_type": "code",
   "execution_count": 23,
   "metadata": {
    "colab": {
     "base_uri": "https://localhost:8080/",
     "height": 54
    },
    "colab_type": "code",
    "id": "xjhNJwsJRZ5p",
    "outputId": "337fc79c-de1d-446c-d55c-9eba24096e28"
   },
   "outputs": [
    {
     "name": "stdout",
     "output_type": "stream",
     "text": [
      "Great ingredients although chicken should have been 1st rather than chicken broth the only thing I do not think belongs in it is Canola oil Canola or rapeseed is not someting a dog would ever find in nature and if it did find rapeseed in nature and eat it it would poison them Today is Food industries have convinced the masses that Canola oil is a safe and even better oil than olive or virgin coconut facts though say otherwise Until the late 70 is it was poisonous until they figured out a way to fix that I still like it but it could be better \n"
     ]
    }
   ],
   "source": [
    "#remove spacial character: https://stackoverflow.com/a/5843547/4084039\n",
    "sent_1500 = re.sub('[^A-Za-z0-9]+', ' ', sent_1500)\n",
    "print(sent_1500)"
   ]
  },
  {
   "cell_type": "code",
   "execution_count": 0,
   "metadata": {
    "colab": {},
    "colab_type": "code",
    "id": "-O2fzFgURZ5w"
   },
   "outputs": [],
   "source": [
    "# https://gist.github.com/sebleier/554280\n",
    "# we are removing the words from the stop words list: 'no', 'nor', 'not'\n",
    "# <br /><br /> ==> after the above steps, we are getting \"br br\"\n",
    "# we are including them into stop words list\n",
    "# instead of <br /> if we have <br/> these tags would have revmoved in the 1st step\n",
    "\n",
    "stopwords= set(['br', 'the', 'i', 'me', 'my', 'myself', 'we', 'our', 'ours', 'ourselves', 'you', \"you're\", \"you've\",\\\n",
    "            \"you'll\", \"you'd\", 'your', 'yours', 'yourself', 'yourselves', 'he', 'him', 'his', 'himself', \\\n",
    "            'she', \"she's\", 'her', 'hers', 'herself', 'it', \"it's\", 'its', 'itself', 'they', 'them', 'their',\\\n",
    "            'theirs', 'themselves', 'what', 'which', 'who', 'whom', 'this', 'that', \"that'll\", 'these', 'those', \\\n",
    "            'am', 'is', 'are', 'was', 'were', 'be', 'been', 'being', 'have', 'has', 'had', 'having', 'do', 'does', \\\n",
    "            'did', 'doing', 'a', 'an', 'the', 'and', 'but', 'if', 'or', 'because', 'as', 'until', 'while', 'of', \\\n",
    "            'at', 'by', 'for', 'with', 'about', 'against', 'between', 'into', 'through', 'during', 'before', 'after',\\\n",
    "            'above', 'below', 'to', 'from', 'up', 'down', 'in', 'out', 'on', 'off', 'over', 'under', 'again', 'further',\\\n",
    "            'then', 'once', 'here', 'there', 'when', 'where', 'why', 'how', 'all', 'any', 'both', 'each', 'few', 'more',\\\n",
    "            'most', 'other', 'some', 'such', 'only', 'own', 'same', 'so', 'than', 'too', 'very', \\\n",
    "            's', 't', 'can', 'will', 'just', 'don', \"don't\", 'should', \"should've\", 'now', 'd', 'll', 'm', 'o', 're', \\\n",
    "            've', 'y', 'ain', 'aren', \"aren't\", 'couldn', \"couldn't\", 'didn', \"didn't\", 'doesn', \"doesn't\", 'hadn',\\\n",
    "            \"hadn't\", 'hasn', \"hasn't\", 'haven', \"haven't\", 'isn', \"isn't\", 'ma', 'mightn', \"mightn't\", 'mustn',\\\n",
    "            \"mustn't\", 'needn', \"needn't\", 'shan', \"shan't\", 'shouldn', \"shouldn't\", 'wasn', \"wasn't\", 'weren', \"weren't\", \\\n",
    "            'won', \"won't\", 'wouldn', \"wouldn't\"])"
   ]
  },
  {
   "cell_type": "code",
   "execution_count": 25,
   "metadata": {
    "colab": {
     "base_uri": "https://localhost:8080/",
     "height": 34
    },
    "colab_type": "code",
    "id": "IK7qdU4ERZ50",
    "outputId": "14d64d41-0074-4ee0-ed21-2710853cb320"
   },
   "outputs": [
    {
     "name": "stderr",
     "output_type": "stream",
     "text": [
      "100%|██████████| 364171/364171 [02:05<00:00, 2906.05it/s]\n"
     ]
    }
   ],
   "source": [
    "# Combining all the above stundents \n",
    "from tqdm import tqdm\n",
    "preprocessed_reviews = []\n",
    "# tqdm is for printing the status bar\n",
    "for sentance in tqdm(final['Text'].values):\n",
    "    sentance = re.sub(r\"http\\S+\", \"\", sentance)\n",
    "    sentance = BeautifulSoup(sentance, 'lxml').get_text()\n",
    "    sentance = decontracted(sentance)\n",
    "    sentance = re.sub(\"\\S*\\d\\S*\", \"\", sentance).strip()\n",
    "    sentance = re.sub('[^A-Za-z]+', ' ', sentance)\n",
    "    # https://gist.github.com/sebleier/554280\n",
    "    sentance = ' '.join(e.lower() for e in sentance.split() if e.lower() not in stopwords)\n",
    "    preprocessed_reviews.append(sentance.strip())"
   ]
  },
  {
   "cell_type": "code",
   "execution_count": 26,
   "metadata": {
    "colab": {
     "base_uri": "https://localhost:8080/",
     "height": 34
    },
    "colab_type": "code",
    "id": "uLtUX95ZRZ5-",
    "outputId": "e07b36ca-6e58-4c02-8b8f-1f3850d9b4ee"
   },
   "outputs": [
    {
     "data": {
      "text/plain": [
       "'pumpkin pie syrup absolutely delicious made lattes taste amazing like liquid pumpkin pie purchase product'"
      ]
     },
     "execution_count": 26,
     "metadata": {
      "tags": []
     },
     "output_type": "execute_result"
    }
   ],
   "source": [
    "preprocessed_reviews[364000]"
   ]
  },
  {
   "cell_type": "markdown",
   "metadata": {},
   "source": [
    "### [4] Featurization"
   ]
  },
  {
   "cell_type": "markdown",
   "metadata": {},
   "source": [
    "##### [4.1] BAG OF WORDS"
   ]
  },
  {
   "cell_type": "code",
   "execution_count": null,
   "metadata": {},
   "outputs": [],
   "source": [
    "#BoW\n",
    "count_vect = CountVectorizer() #in scikit-learn\n",
    "count_vect.fit(preprocessed_reviews)\n",
    "print(\"some feature names \", count_vect.get_feature_names()[:10])\n",
    "print('='*50)\n",
    "\n",
    "final_counts = count_vect.transform(preprocessed_reviews)\n",
    "print(\"the type of count vectorizer \",type(final_counts))\n",
    "print(\"the shape of out text BOW vectorizer \",final_counts.get_shape())\n",
    "print(\"the number of unique words \", final_counts.get_shape()[1])"
   ]
  },
  {
   "cell_type": "markdown",
   "metadata": {},
   "source": [
    "##### [4.2] Bi-Grams and n-Grams."
   ]
  },
  {
   "cell_type": "code",
   "execution_count": null,
   "metadata": {},
   "outputs": [],
   "source": [
    "#bi-gram, tri-gram and n-gram\n",
    "\n",
    "#removing stop words like \"not\" should be avoided before building n-grams\n",
    "# count_vect = CountVectorizer(ngram_range=(1,2))\n",
    "# please do read the CountVectorizer documentation http://scikit-learn.org/stable/modules/generated/sklearn.feature_extraction.text.CountVectorizer.html\n",
    "\n",
    "# you can choose these numebrs min_df=10, max_features=5000, of your choice\n",
    "count_vect = CountVectorizer(ngram_range=(1,2), min_df=10, max_features=5000)\n",
    "final_bigram_counts = count_vect.fit_transform(preprocessed_reviews)\n",
    "print(\"the type of count vectorizer \",type(final_bigram_counts))\n",
    "print(\"the shape of out text BOW vectorizer \",final_bigram_counts.get_shape())\n",
    "print(\"the number of unique words including both unigrams and bigrams \", final_bigram_counts.get_shape()[1])"
   ]
  },
  {
   "cell_type": "markdown",
   "metadata": {},
   "source": [
    "##### [4.3] TF-IDF"
   ]
  },
  {
   "cell_type": "code",
   "execution_count": null,
   "metadata": {},
   "outputs": [],
   "source": [
    "tf_idf_vect = TfidfVectorizer(ngram_range=(1,2), min_df=10)\n",
    "tf_idf_vect.fit(preprocessed_reviews)\n",
    "print(\"some sample features(unique words in the corpus)\",tf_idf_vect.get_feature_names()[0:10])\n",
    "print('='*50)\n",
    "\n",
    "final_tf_idf = tf_idf_vect.transform(preprocessed_reviews)\n",
    "print(\"the type of count vectorizer \",type(final_tf_idf))\n",
    "print(\"the shape of out text TFIDF vectorizer \",final_tf_idf.get_shape())\n",
    "print(\"the number of unique words including both unigrams and bigrams \", final_tf_idf.get_shape()[1])"
   ]
  },
  {
   "cell_type": "markdown",
   "metadata": {},
   "source": [
    "##### [4.4] Word2Vec"
   ]
  },
  {
   "cell_type": "code",
   "execution_count": null,
   "metadata": {},
   "outputs": [],
   "source": [
    "# Train your own Word2Vec model using your own text corpus\n",
    "i=0\n",
    "list_of_sentance=[]\n",
    "for sentance in preprocessed_reviews:\n",
    "    list_of_sentance.append(sentance.split())"
   ]
  },
  {
   "cell_type": "markdown",
   "metadata": {},
   "source": [
    "##### [4.4.1] Converting text into vectors using Avg W2V, TFIDF-W2V"
   ]
  },
  {
   "cell_type": "code",
   "execution_count": null,
   "metadata": {},
   "outputs": [],
   "source": [
    "# TF-IDF weighted Word2Vec\n",
    "tfidf_feat = model.get_feature_names() # tfidf words/col-names\n",
    "# final_tf_idf is the sparse matrix with row= sentence, col=word and cell_val = tfidf\n",
    "\n",
    "tfidf_sent_vectors = []; # the tfidf-w2v for each sentence/review is stored in this list\n",
    "row=0;\n",
    "for sent in tqdm(list_of_sentance): # for each review/sentence \n",
    "    sent_vec = np.zeros(50) # as word vectors are of zero length\n",
    "    weight_sum =0; # num of words with a valid vector in the sentence/review\n",
    "    for word in sent: # for each word in a review/sentence\n",
    "        if word in w2v_words and word in tfidf_feat:\n",
    "            vec = w2v_model.wv[word]\n",
    "#             tf_idf = tf_idf_matrix[row, tfidf_feat.index(word)]\n",
    "            # to reduce the computation we are \n",
    "            # dictionary[word] = idf value of word in whole courpus\n",
    "            # sent.count(word) = tf valeus of word in this review\n",
    "            tf_idf = dictionary[word]*(sent.count(word)/len(sent))\n",
    "            sent_vec += (vec * tf_idf)\n",
    "            weight_sum += tf_idf\n",
    "    if weight_sum != 0:\n",
    "        sent_vec /= weight_sum\n",
    "    tfidf_sent_vectors.append(sent_vec)\n",
    "    row += 1"
   ]
  },
  {
   "cell_type": "markdown",
   "metadata": {
    "colab_type": "text",
    "id": "naJ26Ye7RZ7p"
   },
   "source": [
    "# [5] Assignment 7: SVM"
   ]
  },
  {
   "cell_type": "markdown",
   "metadata": {
    "colab_type": "text",
    "id": "keUZRwH3RZ7q"
   },
   "source": [
    "# Applying SVM"
   ]
  },
  {
   "cell_type": "markdown",
   "metadata": {
    "colab_type": "text",
    "id": "uK8LeE1qRZ7u"
   },
   "source": [
    "## [5.1] Linear SVM"
   ]
  },
  {
   "cell_type": "code",
   "execution_count": 28,
   "metadata": {
    "colab": {
     "base_uri": "https://localhost:8080/",
     "height": 52
    },
    "colab_type": "code",
    "id": "lSR4obj5RZ74",
    "outputId": "31b6e060-bc5e-4dae-a0cc-820530857a58"
   },
   "outputs": [
    {
     "name": "stdout",
     "output_type": "stream",
     "text": [
      "(100000,) <class 'numpy.ndarray'>\n",
      "(100000,) <class 'numpy.ndarray'>\n"
     ]
    }
   ],
   "source": [
    "#obtaining the cleaned_text from the preprocessed_reviews  for the given dataset.\n",
    "final['cleaned_text']=preprocessed_reviews\n",
    "#Applying the time based splitting for the sample 15k datapts.\n",
    "final.sort_values(by='Time')\n",
    "final1 = final.sample(n = 100000)\n",
    "\n",
    "Y = final1['Score'].values\n",
    "X = final1['cleaned_text'].values\n",
    "print(X.shape,type(X))\n",
    "print(Y.shape,type(Y))"
   ]
  },
  {
   "cell_type": "code",
   "execution_count": 0,
   "metadata": {
    "colab": {},
    "colab_type": "code",
    "id": "sSPbn7i9RZ8B"
   },
   "outputs": [],
   "source": [
    "#importing library.\n",
    "from sklearn.model_selection import cross_val_score\n",
    "from sklearn.metrics import accuracy_score\n",
    "from sklearn.model_selection import train_test_split\n",
    "from sklearn.metrics import roc_auc_score\n",
    "from sklearn.model_selection import GridSearchCV\n",
    "from sklearn.feature_extraction.text import CountVectorizer\n"
   ]
  },
  {
   "cell_type": "code",
   "execution_count": 30,
   "metadata": {
    "colab": {
     "base_uri": "https://localhost:8080/",
     "height": 105
    },
    "colab_type": "code",
    "id": "VaeIVKhdRZ8F",
    "outputId": "fe3d26c9-441f-4b49-d9d5-9a724805dc4a"
   },
   "outputs": [
    {
     "name": "stdout",
     "output_type": "stream",
     "text": [
      "**********\n",
      "After splitting the data\n",
      "(80000,) (80000,)\n",
      "(20000,) (20000,)\n",
      "(20000,) (20000,)\n"
     ]
    }
   ],
   "source": [
    "# performing training,CV & testing for performing splitting of the dataset.\n",
    "X_train,X_test,Y_train,Y_test=train_test_split(X,Y,test_size=0.2,random_state=12,shuffle=False)\n",
    "X_train,X_cv,Y_train,Y_cv=train_test_split(X,Y,test_size=0.2,random_state=12,shuffle=False)\n",
    "print(\"*\"*10)\n",
    "print(\"After splitting the data\")\n",
    "print(X_train.shape,Y_train.shape)\n",
    "print(X_cv.shape,Y_cv.shape)\n",
    "print(X_test.shape,Y_test.shape)"
   ]
  },
  {
   "cell_type": "code",
   "execution_count": 0,
   "metadata": {
    "colab": {},
    "colab_type": "code",
    "id": "2NSvGbTLRZ8O"
   },
   "outputs": [],
   "source": [
    "from sklearn.linear_model import SGDClassifier\n",
    "from sklearn.calibration import CalibratedClassifierCV\n",
    "from sklearn.model_selection import cross_val_score\n",
    "from sklearn.metrics import accuracy_score\n",
    "import matplotlib.pyplot as plt "
   ]
  },
  {
   "cell_type": "markdown",
   "metadata": {
    "colab_type": "text",
    "id": "ryakfserRZ8b"
   },
   "source": [
    "### [5.1.1] Applying Linear SVM on BOW,<font color='red'> SET 1</font>"
   ]
  },
  {
   "cell_type": "code",
   "execution_count": 32,
   "metadata": {
    "colab": {
     "base_uri": "https://localhost:8080/",
     "height": 87
    },
    "colab_type": "code",
    "id": "_2zFaXSqRZ8d",
    "outputId": "352c1ab9-f00b-4c8e-b1e9-190c303404e0"
   },
   "outputs": [
    {
     "name": "stdout",
     "output_type": "stream",
     "text": [
      "After transforming the data\n",
      "(80000, 54543) (80000,)\n",
      "(20000, 54543) (20000,)\n",
      "(20000, 54543) (20000,)\n"
     ]
    }
   ],
   "source": [
    "vectorizer=CountVectorizer()\n",
    "vectorizer=vectorizer.fit(X_train)\n",
    "\n",
    "X_train_bow=vectorizer.transform(X_train)\n",
    "X_cv_bow=vectorizer.transform(X_cv)\n",
    "X_test_bow=vectorizer.transform(X_test)\n",
    "\n",
    "print(\"After transforming the data\")\n",
    "print(X_train_bow.shape,Y_train.shape)\n",
    "print(X_cv_bow.shape,Y_cv.shape)\n",
    "print(X_test_bow.shape,Y_test.shape)"
   ]
  },
  {
   "cell_type": "code",
   "execution_count": 33,
   "metadata": {
    "colab": {
     "base_uri": "https://localhost:8080/",
     "height": 295
    },
    "colab_type": "code",
    "id": "ER9pPc_qRZ8q",
    "outputId": "5238fc33-2ec1-4a5a-e75b-67fbfacd0eba"
   },
   "outputs": [
    {
     "data": {
      "image/png": "[encoded data removed]",
      "text/plain": [
       "<Figure size 432x288 with 1 Axes>"
      ]
     },
     "metadata": {
      "tags": []
     },
     "output_type": "display_data"
    }
   ],
   "source": [
    "import math\n",
    "train_auc=[]\n",
    "cv_auc=[]\n",
    "\n",
    "alpha=[10**-4,10**-3,10**-2,10**-1,10**0,10**1,10**2,10**3,10**4]\n",
    "logalpha=[]\n",
    "for i in alpha:\n",
    "    clf=SGDClassifier(alpha=i,class_weight=\"balanced\")\n",
    "    clf.fit(X_train_bow,Y_train)\n",
    "    ccv=CalibratedClassifierCV(clf,cv=\"prefit\")\n",
    "    ccv.fit(X_cv_bow,Y_cv)\n",
    "    Y_train_pred =  ccv.predict_proba(X_train_bow)[:,1]\n",
    "    Y_cv_pred =  ccv.predict_proba(X_cv_bow)[:,1]\n",
    "    \n",
    "    train_auc.append(roc_auc_score(Y_train,Y_train_pred))\n",
    "    cv_auc.append(roc_auc_score(Y_cv, Y_cv_pred))\n",
    "    \n",
    "    logalpha.append(math.log(i))\n",
    "    \n",
    "plt.plot(logalpha, train_auc, label='Train AUC')\n",
    "plt.scatter(logalpha, train_auc, label='Train AUC')\n",
    "plt.plot(logalpha, cv_auc, label='CV AUC')\n",
    "plt.scatter(logalpha, cv_auc, label='CV AUC')\n",
    "\n",
    "plt.xlabel(\"alpha: hyperparameter\")\n",
    "plt.ylabel(\"AUC\")\n",
    "plt.title(\"ERROR PLOTS\")\n",
    "plt.show()"
   ]
  },
  {
   "cell_type": "code",
   "execution_count": 34,
   "metadata": {
    "colab": {
     "base_uri": "https://localhost:8080/",
     "height": 350
    },
    "colab_type": "code",
    "id": "aLppRtBORZ8t",
    "outputId": "77f4e396-818b-488a-917a-3031e0da5b51"
   },
   "outputs": [
    {
     "name": "stdout",
     "output_type": "stream",
     "text": [
      "******************************************************************************************************************************************************\n",
      "Optimal number alpha:  0.001\n"
     ]
    },
    {
     "data": {
      "image/png": "[encoded data removed]",
      "text/plain": [
       "<Figure size 432x288 with 1 Axes>"
      ]
     },
     "metadata": {
      "tags": []
     },
     "output_type": "display_data"
    }
   ],
   "source": [
    "cv_score = []\n",
    "alpha=[0.001,0.005,0.01]\n",
    "for k in alpha:\n",
    "    cvs = SGDClassifier(alpha=k,class_weight=\"balanced\")\n",
    "    scores = cross_val_score(cvs, X_train_bow, Y_train, cv=10, scoring='roc_auc')\n",
    "    cv_score.append(scores.mean())\n",
    "\n",
    "print(\"*\"*150)\n",
    "# Miss classification error\n",
    "MSE = [1-x for x in cv_score]\n",
    "optimal_alpha1 = alpha[MSE.index(min(MSE))]\n",
    "print(\"Optimal number alpha: \", optimal_alpha1)\n",
    "\n",
    "plt.plot(alpha, MSE)\n",
    "plt.title(\"Number of alpha and error\")\n",
    "plt.xlabel(\"Number of alpha\")\n",
    "plt.ylabel(\"Missclassification error\")\n",
    "plt.show()"
   ]
  },
  {
   "cell_type": "code",
   "execution_count": 0,
   "metadata": {
    "colab": {},
    "colab_type": "code",
    "id": "VYuoSYIaRZ86"
   },
   "outputs": [],
   "source": [
    "model = SGDClassifier(alpha=optimal_alpha1,class_weight=\"balanced\")\n",
    "model.fit(X_train_bow, Y_train)\n",
    "optimal_model=CalibratedClassifierCV(model,cv=\"prefit\")\n",
    "optimal_model.fit(X_cv_bow,Y_cv)\n",
    "prediction = optimal_model.predict(X_test_bow)"
   ]
  },
  {
   "cell_type": "code",
   "execution_count": 36,
   "metadata": {
    "colab": {
     "base_uri": "https://localhost:8080/",
     "height": 295
    },
    "colab_type": "code",
    "id": "NtuTyVjyRZ89",
    "outputId": "f9561b98-ed70-44c1-b692-fff292f9625f"
   },
   "outputs": [
    {
     "data": {
      "image/png": "[encoded data removed]",
      "text/plain": [
       "<Figure size 432x288 with 1 Axes>"
      ]
     },
     "metadata": {
      "tags": []
     },
     "output_type": "display_data"
    }
   ],
   "source": [
    "train_fpr, train_tpr, thresholds = roc_curve(Y_train, optimal_model.predict_proba(X_train_bow)[:,1])\n",
    "test_fpr, test_tpr, thresholds = roc_curve(Y_test, optimal_model.predict_proba(X_test_bow)[:,1])\n",
    "AUC1=str(auc(test_fpr, test_tpr))\n",
    "plt.plot(train_fpr, train_tpr, label=\"train AUC =\"+str(auc(train_fpr, train_tpr)))\n",
    "plt.plot(test_fpr, test_tpr, label=\"test AUC =\"+str(auc(test_fpr, test_tpr)))\n",
    "plt.legend()\n",
    "plt.xlabel(\"K: hyperparameter\")\n",
    "plt.ylabel(\"AUC\")\n",
    "plt.title(\"ERROR PLOTS\")\n",
    "plt.show()"
   ]
  },
  {
   "cell_type": "code",
   "execution_count": 37,
   "metadata": {
    "colab": {
     "base_uri": "https://localhost:8080/",
     "height": 626
    },
    "colab_type": "code",
    "id": "xzEPPDtkRZ9A",
    "outputId": "23cb8d15-7b2e-49c8-de63-e34f234bd71d"
   },
   "outputs": [
    {
     "name": "stdout",
     "output_type": "stream",
     "text": [
      "confusion_matrix for train_data\n"
     ]
    },
    {
     "data": {
      "image/png": "[encoded data removed]",
      "text/plain": [
       "<Figure size 432x288 with 2 Axes>"
      ]
     },
     "metadata": {
      "tags": []
     },
     "output_type": "display_data"
    },
    {
     "name": "stdout",
     "output_type": "stream",
     "text": [
      "********************\n",
      "confusion_matrix for test_data.\n"
     ]
    },
    {
     "data": {
      "image/png": "[encoded data removed]",
      "text/plain": [
       "<Figure size 432x288 with 2 Axes>"
      ]
     },
     "metadata": {
      "tags": []
     },
     "output_type": "display_data"
    }
   ],
   "source": [
    "print(\"confusion_matrix for train_data\")\n",
    "conf_matrix = confusion_matrix(Y_train,optimal_model.predict(X_train_bow))\n",
    "class_label =[0,1]\n",
    "df_conf_matrix = pd.DataFrame(conf_matrix,index=class_label,columns=class_label)\n",
    "sns.heatmap(df_conf_matrix, annot=True, fmt='d')\n",
    "plt.title(\"confusion_matrix for train\")\n",
    "plt.xlabel(\"Predicted\")\n",
    "plt.ylabel('actual')\n",
    "plt.show()\n",
    "print(\"*\"*20)\n",
    "\n",
    "print(\"confusion_matrix for test_data.\")\n",
    "conf_matrix = confusion_matrix(Y_test,optimal_model.predict(X_test_bow))\n",
    "class_label =[0,1]\n",
    "df_conf_matrix = pd.DataFrame(conf_matrix,index=class_label,columns=class_label)\n",
    "sns.heatmap(df_conf_matrix,annot=True,fmt='d')\n",
    "plt.title(\"confusion_matrix for test\")\n",
    "plt.xlabel(\"Predicted\")\n",
    "plt.ylabel('actual')\n",
    "plt.show()"
   ]
  },
  {
   "cell_type": "code",
   "execution_count": 38,
   "metadata": {
    "colab": {
     "base_uri": "https://localhost:8080/",
     "height": 175
    },
    "colab_type": "code",
    "id": "inMD2FudRZ9G",
    "outputId": "2e9da7b9-5acf-4304-90f4-7771b1841e7e"
   },
   "outputs": [
    {
     "name": "stdout",
     "output_type": "stream",
     "text": [
      "              precision    recall  f1-score   support\n",
      "\n",
      "           0       0.80      0.61      0.69      3108\n",
      "           1       0.93      0.97      0.95     16892\n",
      "\n",
      "    accuracy                           0.92     20000\n",
      "   macro avg       0.87      0.79      0.82     20000\n",
      "weighted avg       0.91      0.92      0.91     20000\n",
      "\n"
     ]
    }
   ],
   "source": [
    "from sklearn.metrics import classification_report\n",
    "print(classification_report(Y_test, prediction))"
   ]
  },
  {
   "cell_type": "markdown",
   "metadata": {
    "colab_type": "text",
    "id": "1MfV2EirRZ9K"
   },
   "source": [
    "### [5.1.2] Applying Linear SVM on TFIDF,<font color='red'> SET 2</font>"
   ]
  },
  {
   "cell_type": "code",
   "execution_count": 0,
   "metadata": {
    "colab": {},
    "colab_type": "code",
    "id": "Ss-uIoPzRZ9L"
   },
   "outputs": [],
   "source": [
    "# Please write all the code with proper documentation\n",
    "Tfidf_vect = TfidfVectorizer(ngram_range=(1,2),min_df = 10)\n",
    "Tfidf_vect.fit(X_train)\n",
    "\n",
    "Tfidf_train = Tfidf_vect.transform(X_train)\n",
    "Tfidf_cv = Tfidf_vect.transform(X_cv)\n",
    "Tfidf_test = Tfidf_vect.transform(X_test)"
   ]
  },
  {
   "cell_type": "code",
   "execution_count": 40,
   "metadata": {
    "colab": {
     "base_uri": "https://localhost:8080/",
     "height": 295
    },
    "colab_type": "code",
    "id": "M22rKu5qRZ9v",
    "outputId": "c9c8ad50-e70d-4676-94b4-e80e77521fc1"
   },
   "outputs": [
    {
     "data": {
      "image/png": "[encoded data removed]",
      "text/plain": [
       "<Figure size 432x288 with 1 Axes>"
      ]
     },
     "metadata": {
      "tags": []
     },
     "output_type": "display_data"
    }
   ],
   "source": [
    "train_auc=[]\n",
    "cv_auc=[]\n",
    "import math\n",
    "alpha=[10**-4,10**-3,10**-2,10**-1,10**0,10**1,10**2,10**3,10**4]\n",
    "logalpha=[]\n",
    "for i in alpha:\n",
    "    clf=SGDClassifier(alpha=i,class_weight=\"balanced\")\n",
    "    clf.fit(Tfidf_train,Y_train)\n",
    "    ccv=CalibratedClassifierCV(clf,cv=\"prefit\")\n",
    "    ccv.fit(Tfidf_cv,Y_cv)\n",
    "    Y_train_pred =  ccv.predict_proba(Tfidf_train)[:,1]\n",
    "    Y_cv_pred =  ccv.predict_proba(Tfidf_cv)[:,1]\n",
    "    \n",
    "    train_auc.append(roc_auc_score(Y_train,Y_train_pred))\n",
    "    cv_auc.append(roc_auc_score(Y_cv, Y_cv_pred))\n",
    "    \n",
    "    logalpha.append(math.log(i))\n",
    "    \n",
    "plt.plot(logalpha, train_auc, label='Train AUC')\n",
    "plt.scatter(logalpha, train_auc, label='Train AUC')\n",
    "plt.plot(logalpha, cv_auc, label='CV AUC')\n",
    "plt.scatter(logalpha, cv_auc, label='CV AUC')\n",
    "\n",
    "plt.xlabel(\"alpha: hyperparameter\")\n",
    "plt.ylabel(\"AUC\")\n",
    "plt.title(\"ERROR PLOTS\")\n",
    "plt.show()"
   ]
  },
  {
   "cell_type": "code",
   "execution_count": 41,
   "metadata": {
    "colab": {
     "base_uri": "https://localhost:8080/",
     "height": 350
    },
    "colab_type": "code",
    "id": "AgtYOuYJRZ95",
    "outputId": "ba867cee-c7e5-4fc8-a1a2-854024e19e9f"
   },
   "outputs": [
    {
     "name": "stdout",
     "output_type": "stream",
     "text": [
      "******************************************************************************************************************************************************\n",
      "Optimal number alpha:  0.001\n"
     ]
    },
    {
     "data": {
      "image/png": "[encoded data removed]",
      "text/plain": [
       "<Figure size 432x288 with 1 Axes>"
      ]
     },
     "metadata": {
      "tags": []
     },
     "output_type": "display_data"
    }
   ],
   "source": [
    "cv_score = []\n",
    "alpha=[0.001,0.005,0.01]\n",
    "for k in alpha:\n",
    "    cvs = SGDClassifier(alpha=k,class_weight=\"balanced\")\n",
    "    scores = cross_val_score(cvs, Tfidf_train, Y_train, cv=10, scoring='roc_auc')\n",
    "    cv_score.append(scores.mean())\n",
    "\n",
    "print(\"*\"*150)\n",
    "# Miss classification error\n",
    "MSE = [1-x for x in cv_score]\n",
    "optimal_alpha2 = alpha[MSE.index(min(MSE))]\n",
    "print(\"Optimal number alpha: \", optimal_alpha2)\n",
    "\n",
    "plt.plot(alpha, MSE)\n",
    "plt.title(\"Number of alpha and error\")\n",
    "plt.xlabel(\"Number of alpha\")\n",
    "plt.ylabel(\"Missclassification error\")\n",
    "plt.show()"
   ]
  },
  {
   "cell_type": "code",
   "execution_count": 0,
   "metadata": {
    "colab": {},
    "colab_type": "code",
    "id": "MSbZz6XfRZ98"
   },
   "outputs": [],
   "source": [
    "model = SGDClassifier(alpha=optimal_alpha2,class_weight=\"balanced\")\n",
    "model.fit(Tfidf_train, Y_train)\n",
    "optimal_model=CalibratedClassifierCV(model,cv=\"prefit\")\n",
    "\n",
    "optimal_model.fit(Tfidf_cv,Y_cv)\n",
    "prediction = optimal_model.predict(Tfidf_test)"
   ]
  },
  {
   "cell_type": "code",
   "execution_count": 130,
   "metadata": {
    "colab": {
     "base_uri": "https://localhost:8080/",
     "height": 295
    },
    "colab_type": "code",
    "id": "8CsFWbXQRZ9-",
    "outputId": "beffdff9-2d14-44c8-fea5-a9988d53ea1f"
   },
   "outputs": [
    {
     "data": {
      "image/png": "[encoded data removed]",
      "text/plain": [
       "<Figure size 432x288 with 1 Axes>"
      ]
     },
     "metadata": {
      "tags": []
     },
     "output_type": "display_data"
    }
   ],
   "source": [
    "train_fpr, train_tpr, thresholds = roc_curve(Y_train, optimal_model.predict_proba(Tfidf_train)[:,1])\n",
    "test_fpr, test_tpr, thresholds = roc_curve(Y_test, optimal_model.predict_proba(Tfidf_test)[:,1])\n",
    "AUC2=str(auc(test_fpr, test_tpr))\n",
    "plt.plot(train_fpr, train_tpr, label=\"train AUC =\"+str(auc(train_fpr, train_tpr)))\n",
    "plt.plot(test_fpr, test_tpr, label=\"test AUC =\"+str(auc(test_fpr, test_tpr)))\n",
    "plt.legend()\n",
    "plt.xlabel(\"K: hyperparameter\")\n",
    "plt.ylabel(\"AUC\")\n",
    "plt.title(\"ERROR PLOTS\")\n",
    "plt.show()"
   ]
  },
  {
   "cell_type": "code",
   "execution_count": 44,
   "metadata": {
    "colab": {
     "base_uri": "https://localhost:8080/",
     "height": 626
    },
    "colab_type": "code",
    "id": "1o2ga8HvRZ-C",
    "outputId": "ef3ec27f-264d-4b1b-be83-46bde350d83d"
   },
   "outputs": [
    {
     "name": "stdout",
     "output_type": "stream",
     "text": [
      "confusion_matrix for train_data\n"
     ]
    },
    {
     "data": {
      "image/png": "[encoded data removed]",
      "text/plain": [
       "<Figure size 432x288 with 2 Axes>"
      ]
     },
     "metadata": {
      "tags": []
     },
     "output_type": "display_data"
    },
    {
     "name": "stdout",
     "output_type": "stream",
     "text": [
      "********************\n",
      "confusion_matrix for test_data.\n"
     ]
    },
    {
     "data": {
      "image/png": "[encoded data removed]",
      "text/plain": [
       "<Figure size 432x288 with 2 Axes>"
      ]
     },
     "metadata": {
      "tags": []
     },
     "output_type": "display_data"
    }
   ],
   "source": [
    "print(\"confusion_matrix for train_data\")\n",
    "conf_matrix = confusion_matrix(Y_train,optimal_model.predict(Tfidf_train))\n",
    "class_label =[0,1]\n",
    "df_conf_matrix = pd.DataFrame(conf_matrix,index=class_label,columns=class_label)\n",
    "sns.heatmap(df_conf_matrix, annot=True, fmt='d')\n",
    "plt.title(\"confusion_matrix for train\")\n",
    "plt.xlabel(\"Predicted\")\n",
    "plt.ylabel('actual')\n",
    "plt.show()\n",
    "print(\"*\"*20)\n",
    "\n",
    "print(\"confusion_matrix for test_data.\")\n",
    "conf_matrix = confusion_matrix(Y_test,optimal_model.predict(Tfidf_test))\n",
    "class_label =[0,1]\n",
    "df_conf_matrix = pd.DataFrame(conf_matrix,index=class_label,columns=class_label)\n",
    "sns.heatmap(df_conf_matrix,annot=True,fmt='d')\n",
    "plt.title(\"confusion_matrix for test\")\n",
    "plt.xlabel(\"Predicted\")\n",
    "plt.ylabel('actual')\n",
    "plt.show()"
   ]
  },
  {
   "cell_type": "code",
   "execution_count": 45,
   "metadata": {
    "colab": {
     "base_uri": "https://localhost:8080/",
     "height": 175
    },
    "colab_type": "code",
    "id": "vdht5lj-RZ-F",
    "outputId": "fc89affd-ff3b-48ce-80ff-f2f2a1c63753"
   },
   "outputs": [
    {
     "name": "stdout",
     "output_type": "stream",
     "text": [
      "              precision    recall  f1-score   support\n",
      "\n",
      "           0       0.76      0.58      0.66      3108\n",
      "           1       0.93      0.97      0.95     16892\n",
      "\n",
      "    accuracy                           0.91     20000\n",
      "   macro avg       0.84      0.77      0.80     20000\n",
      "weighted avg       0.90      0.91      0.90     20000\n",
      "\n"
     ]
    }
   ],
   "source": [
    "from sklearn.metrics import classification_report\n",
    "print(classification_report(Y_test,prediction))"
   ]
  },
  {
   "cell_type": "markdown",
   "metadata": {
    "colab_type": "text",
    "id": "mitkddFkRZ-K"
   },
   "source": [
    "### [5.1.3]  Applying Linear SVM on AVG W2V,<font color='red'> SET 3</font>"
   ]
  },
  {
   "cell_type": "code",
   "execution_count": 46,
   "metadata": {
    "colab": {
     "base_uri": "https://localhost:8080/",
     "height": 72
    },
    "colab_type": "code",
    "id": "2EUMWYIERZ-L",
    "outputId": "f3f94a55-6bb8-4163-b6ec-49d7d93f32fd"
   },
   "outputs": [
    {
     "name": "stdout",
     "output_type": "stream",
     "text": [
      "number of words that occured minimum 5 times  17172\n",
      "sample words  ['wife', 'introduced', 'stuff', 'outstanding', 'replacement', 'soy', 'sauce', 'like', 'love', 'whole', 'lot', 'healthier', 'decided', 'switch', 'cat', 'food', 'kinds', 'problems', 'excessive', 'throwing', 'urinary', 'tract', 'issues', 'significant', 'weight', 'loss', 'vet', 'could', 'not', 'explain', 'switched', 'kirkland', 'dry', 'friskies', 'turkey', 'pate', 'canned', 'wellness', 'chicken', 'formula', 'almost', 'overnight', 'miracle', 'put', 'least', 'pound', 'weeks', 'eats', 'entire', 'oz']\n"
     ]
    }
   ],
   "source": [
    "i=0\n",
    "list_of_sentance_train=[]\n",
    "for sentance in X_train:\n",
    "    list_of_sentance_train.append(sentance.split())\n",
    "\n",
    "# this line of code trains your w2v model on the give list of sentances\n",
    "w2v_model=Word2Vec(list_of_sentance_train,min_count=5,size=50, workers=4)\n",
    "\n",
    "w2v_words = list(w2v_model.wv.vocab)\n",
    "print(\"number of words that occured minimum 5 times \",len(w2v_words))\n",
    "print(\"sample words \", w2v_words[0:50])"
   ]
  },
  {
   "cell_type": "code",
   "execution_count": 47,
   "metadata": {
    "colab": {
     "base_uri": "https://localhost:8080/",
     "height": 193
    },
    "colab_type": "code",
    "id": "GiyjcOP5RZ-P",
    "outputId": "6bf0ebca-b072-4a6b-9eff-b7d38793e1f6"
   },
   "outputs": [
    {
     "name": "stdout",
     "output_type": "stream",
     "text": [
      "(80000, 50)\n",
      "[-0.72895796  0.16920557 -0.76542708  0.54709428  0.0357691   0.30088818\n",
      " -0.92052689 -0.5483601  -0.38738159  0.25678294  0.43666448  1.30967213\n",
      " -0.79647353 -0.37033545 -0.83785294 -0.16758421  0.23277885 -0.29240216\n",
      " -1.15768354 -0.26878664 -0.65442539 -0.0803414   0.05307716  0.2621974\n",
      " -0.15249893 -0.17856658 -0.44035969 -1.2742621   0.49469698 -0.22183558\n",
      "  0.63734367  0.18332762  1.02482724 -0.07546564 -0.11824686  0.26141651\n",
      "  0.50010146 -0.18155246  0.0497736   0.44514756  0.69809307  1.32786009\n",
      "  0.89051427 -0.93565343 -0.02208304 -0.44143326 -0.53023665  0.31217223\n",
      " -0.56788194 -0.0198964 ]\n"
     ]
    }
   ],
   "source": [
    "# average Word2Vec\n",
    "# compute average word2vec for each review.\n",
    "sent_vectors_train = []; # the avg-w2v for each sentence/review is stored in this list\n",
    "for sent in list_of_sentance_train: # for each review/sentence\n",
    "    sent_vec = np.zeros(50) # as word vectors are of zero length 50, you might need to change this to 300 if you use google's w2v\n",
    "    cnt_words =0; # num of words with a valid vector in the sentence/review\n",
    "    for word in sent: # for each word in a review/sentence\n",
    "        if word in w2v_words:\n",
    "            vec = w2v_model.wv[word]\n",
    "            sent_vec += vec\n",
    "            cnt_words += 1\n",
    "    if cnt_words != 0:\n",
    "        sent_vec /= cnt_words\n",
    "    sent_vectors_train.append(sent_vec)\n",
    "sent_vectors_train = np.array(sent_vectors_train)\n",
    "print(sent_vectors_train.shape)\n",
    "print(sent_vectors_train[0])"
   ]
  },
  {
   "cell_type": "code",
   "execution_count": 48,
   "metadata": {
    "colab": {
     "base_uri": "https://localhost:8080/",
     "height": 193
    },
    "colab_type": "code",
    "id": "uadGZ-8xRZ-f",
    "outputId": "f39e089b-0b9a-459a-c179-4bbc323d2a73"
   },
   "outputs": [
    {
     "name": "stdout",
     "output_type": "stream",
     "text": [
      "(20000, 50)\n",
      "[ 0.00556981 -0.20335597  0.19663421  0.39077077  0.06238451 -0.12170836\n",
      " -0.78532939  0.1610322   0.12904906 -0.26445919  0.06997045 -0.3026135\n",
      " -0.20870252 -0.34924513 -0.23446892  0.10752132  0.69040229 -0.39841853\n",
      " -0.1428435   0.02663443  0.09293351 -0.34985936 -0.00810114 -0.02721511\n",
      "  0.56488518  0.23598483 -0.04585091 -0.90202367  0.27534022 -0.2193387\n",
      "  0.71507375  0.16025317  0.06196505 -0.69286622 -0.11583458  0.00250676\n",
      "  0.19276895  0.55125661  0.10008321  0.25094543  0.40182361  0.58023874\n",
      "  0.43285042 -0.04850915  0.60021707 -0.42786435  0.1974797  -0.4849188\n",
      " -0.07278424 -0.13658143]\n"
     ]
    }
   ],
   "source": [
    "i=0\n",
    "list_of_sentance_cv=[]\n",
    "for sentance in X_cv:\n",
    "    list_of_sentance_cv.append(sentance.split())\n",
    "# average Word2Vec\n",
    "# compute average word2vec for each review.\n",
    "sent_vectors_cv = []; # the avg-w2v for each sentence/review is stored in this list\n",
    "for sent in list_of_sentance_cv: # for each review/sentence\n",
    "    sent_vec = np.zeros(50) # as word vectors are of zero length 50, you might need to change this to 300 if you use google's w2v\n",
    "    cnt_words =0; # num of words with a valid vector in the sentence/review\n",
    "    for word in sent: # for each word in a review/sentence\n",
    "        if word in w2v_words:\n",
    "            vec = w2v_model.wv[word]\n",
    "            sent_vec += vec\n",
    "            cnt_words += 1\n",
    "    if cnt_words != 0:\n",
    "        sent_vec /= cnt_words\n",
    "    sent_vectors_cv.append(sent_vec)\n",
    "sent_vectors_cv = np.array(sent_vectors_cv)\n",
    "print(sent_vectors_cv.shape)\n",
    "print(sent_vectors_cv[0])"
   ]
  },
  {
   "cell_type": "code",
   "execution_count": 49,
   "metadata": {
    "colab": {
     "base_uri": "https://localhost:8080/",
     "height": 193
    },
    "colab_type": "code",
    "id": "RF65189CRZ-k",
    "outputId": "6997ed58-3b7a-43ac-fe96-155080ce3ebe"
   },
   "outputs": [
    {
     "name": "stdout",
     "output_type": "stream",
     "text": [
      "(20000, 50)\n",
      "[ 0.00556981 -0.20335597  0.19663421  0.39077077  0.06238451 -0.12170836\n",
      " -0.78532939  0.1610322   0.12904906 -0.26445919  0.06997045 -0.3026135\n",
      " -0.20870252 -0.34924513 -0.23446892  0.10752132  0.69040229 -0.39841853\n",
      " -0.1428435   0.02663443  0.09293351 -0.34985936 -0.00810114 -0.02721511\n",
      "  0.56488518  0.23598483 -0.04585091 -0.90202367  0.27534022 -0.2193387\n",
      "  0.71507375  0.16025317  0.06196505 -0.69286622 -0.11583458  0.00250676\n",
      "  0.19276895  0.55125661  0.10008321  0.25094543  0.40182361  0.58023874\n",
      "  0.43285042 -0.04850915  0.60021707 -0.42786435  0.1974797  -0.4849188\n",
      " -0.07278424 -0.13658143]\n"
     ]
    }
   ],
   "source": [
    "i=0\n",
    "list_of_sentance_test=[]\n",
    "for sentance in X_test:\n",
    "    list_of_sentance_test.append(sentance.split())\n",
    "# average Word2Vec\n",
    "# compute average word2vec for each review.\n",
    "sent_vectors_test = []; # the avg-w2v for each sentence/review is stored in this list\n",
    "for sent in list_of_sentance_test: # for each review/sentence\n",
    "    sent_vec = np.zeros(50) # as word vectors are of zero length 50, you might need to change this to 300 if you use google's w2v\n",
    "    cnt_words =0; # num of words with a valid vector in the sentence/review\n",
    "    for word in sent: # for each word in a review/sentence\n",
    "        if word in w2v_words:\n",
    "            vec = w2v_model.wv[word]\n",
    "            sent_vec += vec\n",
    "            cnt_words += 1\n",
    "    if cnt_words != 0:\n",
    "        sent_vec /= cnt_words\n",
    "    sent_vectors_test.append(sent_vec)\n",
    "sent_vectors_test = np.array(sent_vectors_test)\n",
    "print(sent_vectors_test.shape)\n",
    "print(sent_vectors_test[0])"
   ]
  },
  {
   "cell_type": "code",
   "execution_count": 50,
   "metadata": {
    "colab": {
     "base_uri": "https://localhost:8080/",
     "height": 295
    },
    "colab_type": "code",
    "id": "Yltr2cDIRZ-r",
    "outputId": "d3e488f5-1674-4ec4-c3eb-2bc9ad491f55"
   },
   "outputs": [
    {
     "data": {
      "image/png": "[encoded data removed]",
      "text/plain": [
       "<Figure size 432x288 with 1 Axes>"
      ]
     },
     "metadata": {
      "tags": []
     },
     "output_type": "display_data"
    }
   ],
   "source": [
    "\n",
    "train_auc=[]\n",
    "cv_auc=[]\n",
    "import math\n",
    "alpha=[10**-4,10**-3,10**-2,10**-1,10**0,10**1,10**2,10**3,10**4]\n",
    "logalpha=[]\n",
    "for i in alpha:\n",
    "    clf=SGDClassifier(alpha=i,class_weight=\"balanced\")\n",
    "    clf.fit(sent_vectors_train,Y_train)\n",
    "    ccv=CalibratedClassifierCV(clf,cv=\"prefit\")\n",
    "    ccv.fit(sent_vectors_cv,Y_cv)\n",
    "    Y_train_pred =  ccv.predict_proba(sent_vectors_train)[:,1]\n",
    "    Y_cv_pred =  ccv.predict_proba(sent_vectors_cv)[:,1]\n",
    "    \n",
    "    train_auc.append(roc_auc_score(Y_train,Y_train_pred))\n",
    "    cv_auc.append(roc_auc_score(Y_cv, Y_cv_pred))\n",
    "    \n",
    "    logalpha.append(math.log(i))\n",
    "    \n",
    "plt.plot(logalpha, train_auc, label='Train AUC')\n",
    "plt.scatter(logalpha, train_auc, label='Train AUC')\n",
    "plt.plot(logalpha, cv_auc, label='CV AUC')\n",
    "plt.scatter(logalpha, cv_auc, label='CV AUC')\n",
    "\n",
    "plt.xlabel(\"alpha: hyperparameter\")\n",
    "plt.ylabel(\"AUC\")\n",
    "plt.title(\"ERROR PLOTS\")\n",
    "plt.show()"
   ]
  },
  {
   "cell_type": "code",
   "execution_count": 51,
   "metadata": {
    "colab": {
     "base_uri": "https://localhost:8080/",
     "height": 350
    },
    "colab_type": "code",
    "id": "Pg4wFnBdRZ-u",
    "outputId": "958afe5e-4cee-47d9-c396-e1d2189a6b0c"
   },
   "outputs": [
    {
     "name": "stdout",
     "output_type": "stream",
     "text": [
      "******************************************************************************************************************************************************\n",
      "Optimal number alpha:  0.001\n"
     ]
    },
    {
     "data": {
      "image/png": "[encoded data removed]",
      "text/plain": [
       "<Figure size 432x288 with 1 Axes>"
      ]
     },
     "metadata": {
      "tags": []
     },
     "output_type": "display_data"
    }
   ],
   "source": [
    "cv_score = []\n",
    "alpha=[0.001,0.005,0.01]\n",
    "for k in alpha:\n",
    "    cvs = SGDClassifier(alpha=k,class_weight=\"balanced\")\n",
    "    scores = cross_val_score(cvs, sent_vectors_train, Y_train, cv=10, scoring='roc_auc')\n",
    "    cv_score.append(scores.mean())\n",
    "\n",
    "print(\"*\"*150)\n",
    "# Miss classification error\n",
    "MSE = [1-x for x in cv_score]\n",
    "optimal_alpha3 = alpha[MSE.index(min(MSE))]\n",
    "print(\"Optimal number alpha: \", optimal_alpha3)\n",
    "\n",
    "plt.plot(alpha, MSE)\n",
    "plt.title(\"Number of alpha and error\")\n",
    "plt.xlabel(\"Number of alpha\")\n",
    "plt.ylabel(\"Missclassification error\")\n",
    "plt.show()"
   ]
  },
  {
   "cell_type": "code",
   "execution_count": 0,
   "metadata": {
    "colab": {},
    "colab_type": "code",
    "id": "gG-7mT9BRZ-x"
   },
   "outputs": [],
   "source": [
    "model = SGDClassifier(alpha=optimal_alpha3,class_weight=\"balanced\")\n",
    "model.fit(sent_vectors_train, Y_train)\n",
    "optimal_model=CalibratedClassifierCV(model,cv=\"prefit\")\n",
    "optimal_model.fit(sent_vectors_cv,Y_cv)\n",
    "prediction = optimal_model.predict(sent_vectors_test)"
   ]
  },
  {
   "cell_type": "code",
   "execution_count": 53,
   "metadata": {
    "colab": {
     "base_uri": "https://localhost:8080/",
     "height": 295
    },
    "colab_type": "code",
    "id": "vra9aCpqRZ-0",
    "outputId": "1f2aa33d-e3e3-49b6-9c39-5a8e7ad7d926"
   },
   "outputs": [
    {
     "data": {
      "image/png": "[encoded data removed]",
      "text/plain": [
       "<Figure size 432x288 with 1 Axes>"
      ]
     },
     "metadata": {
      "tags": []
     },
     "output_type": "display_data"
    }
   ],
   "source": [
    "train_fpr, train_tpr, thresholds = roc_curve(Y_train, optimal_model.predict_proba(sent_vectors_train)[:,1])\n",
    "test_fpr, test_tpr, thresholds = roc_curve(Y_test, optimal_model.predict_proba(sent_vectors_test)[:,1])\n",
    "AUC3=str(auc(test_fpr, test_tpr))\n",
    "plt.plot(train_fpr, train_tpr, label=\"train AUC =\"+str(auc(train_fpr, train_tpr)))\n",
    "plt.plot(test_fpr, test_tpr, label=\"test AUC =\"+str(auc(test_fpr, test_tpr)))\n",
    "plt.legend()\n",
    "plt.xlabel(\"K: hyperparameter\")\n",
    "plt.ylabel(\"AUC\")\n",
    "plt.title(\"ERROR PLOTS\")\n",
    "plt.show() "
   ]
  },
  {
   "cell_type": "code",
   "execution_count": 54,
   "metadata": {
    "colab": {
     "base_uri": "https://localhost:8080/",
     "height": 626
    },
    "colab_type": "code",
    "id": "7eoUKF3xRZ-4",
    "outputId": "f979ea99-4167-4f7c-9fef-7898585b6dac"
   },
   "outputs": [
    {
     "name": "stdout",
     "output_type": "stream",
     "text": [
      "confusion_matrix for train_data\n"
     ]
    },
    {
     "data": {
      "image/png": "[encoded data removed]",
      "text/plain": [
       "<Figure size 432x288 with 2 Axes>"
      ]
     },
     "metadata": {
      "tags": []
     },
     "output_type": "display_data"
    },
    {
     "name": "stdout",
     "output_type": "stream",
     "text": [
      "********************\n",
      "confusion_matrix for test_data.\n"
     ]
    },
    {
     "data": {
      "image/png": "[encoded data removed]",
      "text/plain": [
       "<Figure size 432x288 with 2 Axes>"
      ]
     },
     "metadata": {
      "tags": []
     },
     "output_type": "display_data"
    }
   ],
   "source": [
    "print(\"confusion_matrix for train_data\")\n",
    "conf_matrix = confusion_matrix(Y_train,optimal_model.predict(sent_vectors_train))\n",
    "class_label =[0,1]\n",
    "df_conf_matrix = pd.DataFrame(conf_matrix,index=class_label,columns=class_label)\n",
    "sns.heatmap(df_conf_matrix, annot=True, fmt='d')\n",
    "plt.title(\"confusion_matrix for train\")\n",
    "plt.xlabel(\"Predicted\")\n",
    "plt.ylabel('actual')\n",
    "plt.show()\n",
    "print(\"*\"*20)\n",
    "\n",
    "print(\"confusion_matrix for test_data.\")\n",
    "conf_matrix = confusion_matrix(Y_test,optimal_model.predict(sent_vectors_test))\n",
    "class_label =[0,1]\n",
    "df_conf_matrix = pd.DataFrame(conf_matrix,index=class_label,columns=class_label)\n",
    "sns.heatmap(df_conf_matrix,annot=True,fmt='d')\n",
    "plt.title(\"confusion_matrix for test\")\n",
    "plt.xlabel(\"Predicted\")\n",
    "plt.ylabel('actual')\n",
    "plt.show()"
   ]
  },
  {
   "cell_type": "code",
   "execution_count": 55,
   "metadata": {
    "colab": {
     "base_uri": "https://localhost:8080/",
     "height": 175
    },
    "colab_type": "code",
    "id": "P8ER3JPGRZ-9",
    "outputId": "ae8221c0-f00c-471a-b405-ff90620ae16e"
   },
   "outputs": [
    {
     "name": "stdout",
     "output_type": "stream",
     "text": [
      "              precision    recall  f1-score   support\n",
      "\n",
      "           0       0.73      0.48      0.58      3108\n",
      "           1       0.91      0.97      0.94     16892\n",
      "\n",
      "    accuracy                           0.89     20000\n",
      "   macro avg       0.82      0.72      0.76     20000\n",
      "weighted avg       0.88      0.89      0.88     20000\n",
      "\n"
     ]
    }
   ],
   "source": [
    "from sklearn.metrics import classification_report\n",
    "print(classification_report(Y_test,prediction))"
   ]
  },
  {
   "cell_type": "markdown",
   "metadata": {
    "colab_type": "text",
    "id": "d8kFyZ5TRZ_B"
   },
   "source": [
    "### [5.1.4]  Applying Linear SVM on TFIDF W2V,<font color='red'> SET 4</font>"
   ]
  },
  {
   "cell_type": "code",
   "execution_count": 0,
   "metadata": {
    "colab": {},
    "colab_type": "code",
    "id": "a9N3wwCHRZ_C"
   },
   "outputs": [],
   "source": [
    "\n",
    "model = TfidfVectorizer()\n",
    "Tfidf_matrix = model.fit(X_train)\n",
    "# we are converting a dictionary with word as a key, and the idf as a value\n",
    "dictionary = dict(zip(model.get_feature_names(), list(model.idf_)))"
   ]
  },
  {
   "cell_type": "code",
   "execution_count": 0,
   "metadata": {
    "colab": {},
    "colab_type": "code",
    "id": "takGLjQjenYB"
   },
   "outputs": [],
   "source": [
    "from tqdm import  tqdm"
   ]
  },
  {
   "cell_type": "code",
   "execution_count": 58,
   "metadata": {
    "colab": {
     "base_uri": "https://localhost:8080/",
     "height": 34
    },
    "colab_type": "code",
    "id": "_0By5KC9RZ_F",
    "outputId": "70fc0a0e-3768-411b-bc13-9483bf2de857"
   },
   "outputs": [
    {
     "name": "stderr",
     "output_type": "stream",
     "text": [
      "100%|██████████| 80000/80000 [32:53<00:00, 33.07it/s]\n"
     ]
    }
   ],
   "source": [
    "# TF-IDF weighted Word2Vec\n",
    "i=0\n",
    "list_of_sentance_train=[]\n",
    "for sentance in X_train:\n",
    "    list_of_sentance_train.append(sentance.split())\n",
    "tfidf_feat = Tfidf_vect.get_feature_names() # tfidf words/col-names\n",
    "# final_tf_idf is the sparse matrix with row= sentence, col=word and cell_val = tfidf\n",
    "\n",
    "tfidf_sent_vectors_train = []; # the tfidf-w2v for each sentence/review is stored in this list\n",
    "row=0;\n",
    "for sent in tqdm(list_of_sentance_train): # for each review/sentence \n",
    "    sent_vec = np.zeros(50) # as word vectors are of zero length\n",
    "    weight_sum =0; # num of words with a valid vector in the sentence/review\n",
    "    for word in sent: # for each word in a review/sentence\n",
    "        if word in w2v_words and word in tfidf_feat:\n",
    "            vec = w2v_model.wv[word]\n",
    "#             tf_idf = tf_idf_matrix[row, tfidf_feat.index(word)]\n",
    "            # to reduce the computation we are \n",
    "            # dictionary[word] = idf value of word in whole courpus\n",
    "            # sent.count(word) = tf valeus of word in this review\n",
    "            tf_idf = dictionary[word]*(sent.count(word)/len(sent))\n",
    "            sent_vec += (vec * tf_idf)\n",
    "            weight_sum += tf_idf\n",
    "    if weight_sum != 0:\n",
    "        sent_vec /= weight_sum\n",
    "    tfidf_sent_vectors_train.append(sent_vec)\n",
    "    row += 1"
   ]
  },
  {
   "cell_type": "code",
   "execution_count": 59,
   "metadata": {
    "colab": {
     "base_uri": "https://localhost:8080/",
     "height": 34
    },
    "colab_type": "code",
    "id": "Ne29u1uiRZ_I",
    "outputId": "0411be71-9063-43ca-b403-f0a9a8a45a51"
   },
   "outputs": [
    {
     "name": "stderr",
     "output_type": "stream",
     "text": [
      "100%|██████████| 20000/20000 [08:21<00:00, 39.92it/s]\n"
     ]
    }
   ],
   "source": [
    "# TF-IDF weighted Word2Vec\n",
    "i=0\n",
    "list_of_sentance_cv=[]\n",
    "for sentance in X_cv:\n",
    "    list_of_sentance_cv.append(sentance.split())\n",
    "tfidf_feat = Tfidf_vect.get_feature_names() # tfidf words/col-names\n",
    "# final_tf_idf is the sparse matrix with row= sentence, col=word and cell_val = tfidf\n",
    "\n",
    "tfidf_sent_vectors_cv = []; # the tfidf-w2v for each sentence/review is stored in this list\n",
    "row=0;\n",
    "for sent in tqdm(list_of_sentance_cv): # for each review/sentence \n",
    "    sent_vec = np.zeros(50) # as word vectors are of zero length\n",
    "    weight_sum =0; # num of words with a valid vector in the sentence/review\n",
    "    for word in sent: # for each word in a review/sentence\n",
    "        if word in w2v_words and word in tfidf_feat:\n",
    "            vec = w2v_model.wv[word]\n",
    "#             tf_idf = tf_idf_matrix[row, tfidf_feat.index(word)]\n",
    "            # to reduce the computation we are \n",
    "            # dictionary[word] = idf value of word in whole courpus\n",
    "            # sent.count(word) = tf valeus of word in this review\n",
    "            tf_idf = dictionary[word]*(sent.count(word)/len(sent))\n",
    "            sent_vec += (vec * tf_idf)\n",
    "            weight_sum += tf_idf\n",
    "    if weight_sum != 0:\n",
    "        sent_vec /= weight_sum\n",
    "    tfidf_sent_vectors_cv.append(sent_vec)\n",
    "    row += 1"
   ]
  },
  {
   "cell_type": "code",
   "execution_count": 60,
   "metadata": {
    "colab": {
     "base_uri": "https://localhost:8080/",
     "height": 34
    },
    "colab_type": "code",
    "id": "7qCkhZGoRZ_K",
    "outputId": "2e4584f1-0ab4-47c0-fff1-901725d5835c"
   },
   "outputs": [
    {
     "name": "stderr",
     "output_type": "stream",
     "text": [
      "100%|██████████| 20000/20000 [09:17<00:00, 35.84it/s]\n"
     ]
    }
   ],
   "source": [
    "# TF-IDF weighted Word2Vec\n",
    "i=0\n",
    "list_of_sentance_test=[]\n",
    "for sentance in X_test:\n",
    "    list_of_sentance_test.append(sentance.split())\n",
    "tfidf_feat = Tfidf_vect.get_feature_names() # tfidf words/col-names\n",
    "# final_tf_idf is the sparse matrix with row= sentence, col=word and cell_val = tfidf\n",
    "\n",
    "tfidf_sent_vectors_test = []; # the tfidf-w2v for each sentence/review is stored in this list\n",
    "row=0;\n",
    "for sent in tqdm(list_of_sentance_test): # for each review/sentence \n",
    "    sent_vec = np.zeros(50) # as word vectors are of zero length\n",
    "    weight_sum =0; # num of words with a valid vector in the sentence/review\n",
    "    for word in sent: # for each word in a review/sentence\n",
    "        if word in w2v_words and word in tfidf_feat:\n",
    "            vec = w2v_model.wv[word]\n",
    "#             tf_idf = tf_idf_matrix[row, tfidf_feat.index(word)]\n",
    "            # to reduce the computation we are \n",
    "            # dictionary[word] = idf value of word in whole courpus\n",
    "            # sent.count(word) = tf valeus of word in this review\n",
    "            tf_idf = dictionary[word]*(sent.count(word)/len(sent))\n",
    "            sent_vec += (vec * tf_idf)\n",
    "            weight_sum += tf_idf\n",
    "    if weight_sum != 0:\n",
    "        sent_vec /= weight_sum\n",
    "    tfidf_sent_vectors_test.append(sent_vec)\n",
    "    row += 1"
   ]
  },
  {
   "cell_type": "code",
   "execution_count": 61,
   "metadata": {
    "colab": {
     "base_uri": "https://localhost:8080/",
     "height": 295
    },
    "colab_type": "code",
    "id": "VK5mZ-2_RZ_V",
    "outputId": "ace5439d-9342-422a-e54f-18be8d331b69"
   },
   "outputs": [
    {
     "data": {
      "image/png": "[encoded data removed]",
      "text/plain": [
       "<Figure size 432x288 with 1 Axes>"
      ]
     },
     "metadata": {
      "tags": []
     },
     "output_type": "display_data"
    }
   ],
   "source": [
    "train_auc=[]\n",
    "cv_auc=[]\n",
    "import math\n",
    "alpha=[10**-4,10**-3,10**-2,10**-1,10**0,10**1,10**2,10**3,10**4]\n",
    "logalpha=[]\n",
    "for i in alpha:\n",
    "    clf=SGDClassifier(alpha=i,class_weight=\"balanced\")\n",
    "    clf.fit(tfidf_sent_vectors_train,Y_train)\n",
    "    ccv=CalibratedClassifierCV(clf,cv=\"prefit\")\n",
    "    ccv.fit(tfidf_sent_vectors_cv,Y_cv)\n",
    "    Y_train_pred =  ccv.predict_proba(tfidf_sent_vectors_train)[:,1]\n",
    "    Y_cv_pred =  ccv.predict_proba(tfidf_sent_vectors_cv)[:,1]\n",
    "    \n",
    "    train_auc.append(roc_auc_score(Y_train,Y_train_pred))\n",
    "    cv_auc.append(roc_auc_score(Y_cv, Y_cv_pred))\n",
    "    \n",
    "    logalpha.append(math.log(i))\n",
    "    \n",
    "plt.plot(logalpha, train_auc, label='Train AUC')\n",
    "plt.scatter(logalpha, train_auc, label='Train AUC')\n",
    "plt.plot(logalpha, cv_auc, label='CV AUC')\n",
    "plt.scatter(logalpha, cv_auc, label='CV AUC')\n",
    "\n",
    "plt.xlabel(\"alpha: hyperparameter\")\n",
    "plt.ylabel(\"AUC\")\n",
    "plt.title(\"ERROR PLOTS\")\n",
    "plt.show()"
   ]
  },
  {
   "cell_type": "code",
   "execution_count": 62,
   "metadata": {
    "colab": {
     "base_uri": "https://localhost:8080/",
     "height": 313
    },
    "colab_type": "code",
    "id": "ocCkvci8RZ_Y",
    "outputId": "78761c19-2304-49b1-ac02-c7e148d2f312"
   },
   "outputs": [
    {
     "name": "stdout",
     "output_type": "stream",
     "text": [
      "Optimal number alpha:  0.005\n"
     ]
    },
    {
     "data": {
      "image/png": "[encoded data removed]",
      "text/plain": [
       "<Figure size 432x288 with 1 Axes>"
      ]
     },
     "metadata": {
      "tags": []
     },
     "output_type": "display_data"
    }
   ],
   "source": [
    "cv_score = []\n",
    "alpha=[0.001,0.005,0.01]\n",
    "for k in alpha:\n",
    "    cvs = SGDClassifier(alpha=k,class_weight=\"balanced\")\n",
    "    scores = cross_val_score(cvs, tfidf_sent_vectors_train, Y_train, cv=10, scoring='roc_auc')\n",
    "    cv_score.append(scores.mean())\n",
    "\n",
    "# Miss classification error\n",
    "MSE = [1-x for x in cv_score]\n",
    "optimal_alpha4 = alpha[MSE.index(min(MSE))]\n",
    "print(\"Optimal number alpha: \", optimal_alpha4)\n",
    "\n",
    "plt.plot(alpha, MSE)\n",
    "plt.title(\"Number of alpha and error\")\n",
    "plt.xlabel(\"Number of alpha\")\n",
    "plt.ylabel(\"Missclassification error\")\n",
    "plt.show()"
   ]
  },
  {
   "cell_type": "code",
   "execution_count": 0,
   "metadata": {
    "colab": {},
    "colab_type": "code",
    "id": "2IIGFe5sRZ_e"
   },
   "outputs": [],
   "source": [
    "model = SGDClassifier(alpha=optimal_alpha4,class_weight=\"balanced\")\n",
    "model.fit(tfidf_sent_vectors_train, Y_train)\n",
    "\n",
    "optimal_model=CalibratedClassifierCV(model,cv=\"prefit\")\n",
    "optimal_model.fit(tfidf_sent_vectors_cv,Y_cv)\n",
    "prediction = optimal_model.predict(tfidf_sent_vectors_test)"
   ]
  },
  {
   "cell_type": "code",
   "execution_count": 64,
   "metadata": {
    "colab": {
     "base_uri": "https://localhost:8080/",
     "height": 295
    },
    "colab_type": "code",
    "id": "KlLKDEBiRZ_h",
    "outputId": "b1c771dd-49db-4440-e793-33d2fd6897a2"
   },
   "outputs": [
    {
     "data": {
      "image/png": "[encoded data removed]",
      "text/plain": [
       "<Figure size 432x288 with 1 Axes>"
      ]
     },
     "metadata": {
      "tags": []
     },
     "output_type": "display_data"
    }
   ],
   "source": [
    "train_fpr, train_tpr, thresholds = roc_curve(Y_train, optimal_model.predict_proba(tfidf_sent_vectors_train)[:,1])\n",
    "test_fpr, test_tpr, thresholds = roc_curve(Y_test, optimal_model.predict_proba(tfidf_sent_vectors_test)[:,1])\n",
    "AUC4=str(auc(test_fpr, test_tpr))\n",
    "plt.plot(train_fpr, train_tpr, label=\"train AUC =\"+str(auc(train_fpr, train_tpr)))\n",
    "plt.plot(test_fpr, test_tpr, label=\"test AUC =\"+str(auc(test_fpr, test_tpr)))\n",
    "plt.legend()\n",
    "plt.xlabel(\"K: hyperparameter\")\n",
    "plt.ylabel(\"AUC\")\n",
    "plt.title(\"ERROR PLOTS\")\n",
    "plt.show()"
   ]
  },
  {
   "cell_type": "code",
   "execution_count": 65,
   "metadata": {
    "colab": {
     "base_uri": "https://localhost:8080/",
     "height": 626
    },
    "colab_type": "code",
    "id": "EMiI_GbfRZ_q",
    "outputId": "5aa3caac-6824-4a46-e2a2-13234c9378a3"
   },
   "outputs": [
    {
     "name": "stdout",
     "output_type": "stream",
     "text": [
      "confusion_matrix for train_data\n"
     ]
    },
    {
     "data": {
      "image/png": "[encoded data removed]",
      "text/plain": [
       "<Figure size 432x288 with 2 Axes>"
      ]
     },
     "metadata": {
      "tags": []
     },
     "output_type": "display_data"
    },
    {
     "name": "stdout",
     "output_type": "stream",
     "text": [
      "********************\n",
      "confusion_matrix for test_data.\n"
     ]
    },
    {
     "data": {
      "image/png": "[encoded data removed]",
      "text/plain": [
       "<Figure size 432x288 with 2 Axes>"
      ]
     },
     "metadata": {
      "tags": []
     },
     "output_type": "display_data"
    }
   ],
   "source": [
    "print(\"confusion_matrix for train_data\")\n",
    "conf_matrix = confusion_matrix(Y_train,optimal_model.predict(tfidf_sent_vectors_train))\n",
    "class_label =[0,1]\n",
    "df_conf_matrix = pd.DataFrame(conf_matrix,index=class_label,columns=class_label)\n",
    "sns.heatmap(df_conf_matrix, annot=True, fmt='d')\n",
    "plt.title(\"confusion_matrix for train\")\n",
    "plt.xlabel(\"Predicted\")\n",
    "plt.ylabel('actual')\n",
    "plt.show()\n",
    "print(\"*\"*20)\n",
    "\n",
    "print(\"confusion_matrix for test_data.\")\n",
    "conf_matrix = confusion_matrix(Y_test,optimal_model.predict(tfidf_sent_vectors_test))\n",
    "class_label =[0,1]\n",
    "df_conf_matrix = pd.DataFrame(conf_matrix,index=class_label,columns=class_label)\n",
    "sns.heatmap(df_conf_matrix,annot=True,fmt='d')\n",
    "plt.title(\"confusion_matrix for test\")\n",
    "plt.xlabel(\"Predicted\")\n",
    "plt.ylabel('actual')\n",
    "plt.show()"
   ]
  },
  {
   "cell_type": "code",
   "execution_count": 66,
   "metadata": {
    "colab": {
     "base_uri": "https://localhost:8080/",
     "height": 175
    },
    "colab_type": "code",
    "id": "iJTEfVIlRZ_t",
    "outputId": "461bd909-7616-4076-a353-e48aa57bb95a"
   },
   "outputs": [
    {
     "name": "stdout",
     "output_type": "stream",
     "text": [
      "              precision    recall  f1-score   support\n",
      "\n",
      "           0       0.70      0.38      0.49      3108\n",
      "           1       0.89      0.97      0.93     16892\n",
      "\n",
      "    accuracy                           0.88     20000\n",
      "   macro avg       0.80      0.67      0.71     20000\n",
      "weighted avg       0.86      0.88      0.86     20000\n",
      "\n"
     ]
    }
   ],
   "source": [
    "from sklearn.metrics import classification_report\n",
    "print(classification_report(Y_test,prediction))"
   ]
  },
  {
   "cell_type": "markdown",
   "metadata": {
    "colab_type": "text",
    "id": "prAQk6DRRZ_x"
   },
   "source": [
    "## [5.2] RBF SVM"
   ]
  },
  {
   "cell_type": "markdown",
   "metadata": {
    "colab_type": "text",
    "id": "Ea1Ou33aRZ_y"
   },
   "source": [
    "### [5.2.1] Applying RBF SVM on BOW,<font color='red'> SET 1</font>"
   ]
  },
  {
   "cell_type": "code",
   "execution_count": 67,
   "metadata": {
    "colab": {
     "base_uri": "https://localhost:8080/",
     "height": 52
    },
    "colab_type": "code",
    "id": "bH8_3opkRZ_z",
    "outputId": "c3f7a0fd-f345-4d27-f03d-cad31f4a4ee8"
   },
   "outputs": [
    {
     "name": "stdout",
     "output_type": "stream",
     "text": [
      "(10000,)\n",
      "(10000,)\n"
     ]
    }
   ],
   "source": [
    "#obtaining the cleaned_text from the preprocessed_reviews  for the given dataset.\n",
    "final['cleaned_text']=preprocessed_reviews\n",
    "\n",
    "#Applying the time based splitting for the sample 15k datapts.\n",
    "final.sort_values(by='Time')\n",
    "final1 = final.sample(n = 10000)\n",
    "\n",
    "Y = final1['Score'].values\n",
    "X = final1['cleaned_text'].values\n",
    "print(X.shape)\n",
    "print(Y.shape)"
   ]
  },
  {
   "cell_type": "code",
   "execution_count": 68,
   "metadata": {
    "colab": {
     "base_uri": "https://localhost:8080/",
     "height": 87
    },
    "colab_type": "code",
    "id": "diPZI_2HRZ_5",
    "outputId": "299b318f-f234-4a70-d52d-b69aa8c70472"
   },
   "outputs": [
    {
     "name": "stdout",
     "output_type": "stream",
     "text": [
      "After splitting the data\n",
      "(8000,) (8000,)\n",
      "(2000,) (2000,)\n",
      "(2000,) (2000,)\n"
     ]
    }
   ],
   "source": [
    "# performing training,CV & testing for performing splitting of the dataset.\n",
    "X_train,X_test,Y_train,Y_test=train_test_split(X,Y,test_size=0.2,random_state=12,shuffle=False)\n",
    "X_train,X_cv,Y_train,Y_cv=train_test_split(X,Y,test_size=0.2,random_state=12,shuffle=False)\n",
    "\n",
    "print(\"After splitting the data\")\n",
    "print(X_train.shape,Y_train.shape)\n",
    "print(X_cv.shape,Y_cv.shape)\n",
    "print(X_test.shape,Y_test.shape)"
   ]
  },
  {
   "cell_type": "code",
   "execution_count": 69,
   "metadata": {
    "colab": {
     "base_uri": "https://localhost:8080/",
     "height": 87
    },
    "colab_type": "code",
    "id": "Y4a8diE9RZ_9",
    "outputId": "d5bf3267-cf6a-4d9a-e9b5-c98e58fdb821"
   },
   "outputs": [
    {
     "name": "stdout",
     "output_type": "stream",
     "text": [
      "After transforming the data\n",
      "(8000, 18259) (8000,)\n",
      "(2000, 18259) (2000,)\n",
      "(2000, 18259) (2000,)\n"
     ]
    }
   ],
   "source": [
    "vectorizer=CountVectorizer()\n",
    "vectorizer=vectorizer.fit(X_train)\n",
    "\n",
    "X_train_bow=vectorizer.transform(X_train)\n",
    "X_cv_bow=vectorizer.transform(X_cv)\n",
    "X_test_bow=vectorizer.transform(X_test)\n",
    "\n",
    "print(\"After transforming the data\")\n",
    "print(X_train_bow.shape,Y_train.shape)\n",
    "print(X_cv_bow.shape,Y_cv.shape)\n",
    "print(X_test_bow.shape,Y_cv.shape)"
   ]
  },
  {
   "cell_type": "code",
   "execution_count": 70,
   "metadata": {
    "colab": {
     "base_uri": "https://localhost:8080/",
     "height": 313
    },
    "colab_type": "code",
    "id": "1soLevqGRaAj",
    "outputId": "6b033ca5-914a-4633-d9d1-2eff0487658a"
   },
   "outputs": [
    {
     "name": "stderr",
     "output_type": "stream",
     "text": [
      "100%|██████████| 9/9 [21:56<00:00, 166.91s/it]\n"
     ]
    },
    {
     "data": {
      "image/png": "[encoded data removed]",
      "text/plain": [
       "<Figure size 432x288 with 1 Axes>"
      ]
     },
     "metadata": {
      "tags": []
     },
     "output_type": "display_data"
    }
   ],
   "source": [
    "from sklearn.svm import SVC\n",
    "loggamma=[]\n",
    "train_auc=[]\n",
    "cv_auc=[]\n",
    "gamma=[10**-4,10**-3,10**-2,10**-1,10**0,10**1,10**2,10**3,10**4]\n",
    "for i in tqdm(gamma):\n",
    "    clf=SVC(gamma=i,probability=True,class_weight=\"balanced\")\n",
    "    clf.fit(X_train_bow,Y_train)\n",
    "    Y_train_pred =  clf.predict_proba(X_train_bow)[:,1]\n",
    "    Y_cv_pred =  clf.predict_proba(X_cv_bow)[:,1]\n",
    "    \n",
    "    train_auc.append(roc_auc_score(Y_train,Y_train_pred))\n",
    "    cv_auc.append(roc_auc_score(Y_cv, Y_cv_pred))\n",
    "    \n",
    "    loggamma.append(math.log(i))\n",
    "    \n",
    "plt.plot(loggamma, train_auc, label='Train AUC')\n",
    "plt.scatter(loggamma, train_auc, label='Train AUC')\n",
    "plt.plot(loggamma, cv_auc, label='CV AUC')\n",
    "plt.scatter(loggamma, cv_auc, label='CV AUC')\n",
    "\n",
    "plt.xlabel(\"gamma: hyperparameter\")\n",
    "plt.ylabel(\"AUC\")\n",
    "plt.title(\"ERROR PLOTS\")\n",
    "plt.show()"
   ]
  },
  {
   "cell_type": "code",
   "execution_count": 71,
   "metadata": {
    "colab": {
     "base_uri": "https://localhost:8080/",
     "height": 313
    },
    "colab_type": "code",
    "id": "mb0TX0kpRaAl",
    "outputId": "ef670d45-fbe1-43a4-f9f6-bf3eeb0e99be"
   },
   "outputs": [
    {
     "name": "stdout",
     "output_type": "stream",
     "text": [
      "Optimal number gamma:  0.007\n"
     ]
    },
    {
     "data": {
      "image/png": "[encoded data removed]",
      "text/plain": [
       "<Figure size 432x288 with 1 Axes>"
      ]
     },
     "metadata": {
      "tags": []
     },
     "output_type": "display_data"
    }
   ],
   "source": [
    "\n",
    "cv_score = []\n",
    "gamma=[0.0005,0.007,0.01]\n",
    "for k in gamma:\n",
    "    cvs = SVC(gamma=k,probability=True,class_weight=\"balanced\")\n",
    "    scores = cross_val_score(cvs, X_train_bow, Y_train, cv=3, scoring='roc_auc')\n",
    "    cv_score.append(scores.mean())\n",
    "    \n",
    "from sklearn.svm import SVC    \n",
    "MSE = [1 - x for x in cv_score]\n",
    "optimal_gamma_1 = gamma[MSE.index(min(MSE))]\n",
    "print(\"Optimal number gamma: \", optimal_gamma_1)\n",
    "\n",
    "plt.plot(gamma, MSE)\n",
    "plt.title(\"Number of gamma and error\")\n",
    "plt.xlabel(\"Number of gamma\")\n",
    "plt.ylabel(\"Missclassification error\")\n",
    "plt.show()"
   ]
  },
  {
   "cell_type": "code",
   "execution_count": 0,
   "metadata": {
    "colab": {},
    "colab_type": "code",
    "id": "W0fDQa1zRaBL"
   },
   "outputs": [],
   "source": [
    "optimal_model = SVC(gamma=optimal_gamma_1,probability=True,class_weight=\"balanced\")\n",
    "optimal_model.fit(X_train_bow, Y_train)\n",
    "prediction = optimal_model.predict(X_test_bow)"
   ]
  },
  {
   "cell_type": "code",
   "execution_count": 73,
   "metadata": {
    "colab": {
     "base_uri": "https://localhost:8080/",
     "height": 295
    },
    "colab_type": "code",
    "id": "Ca3ZhPwQRaBN",
    "outputId": "beb5d5f7-baa8-4a17-da5e-0c6facf6a240"
   },
   "outputs": [
    {
     "data": {
      "image/png": "[encoded data removed]",
      "text/plain": [
       "<Figure size 432x288 with 1 Axes>"
      ]
     },
     "metadata": {
      "tags": []
     },
     "output_type": "display_data"
    }
   ],
   "source": [
    "train_fpr, train_tpr, thresholds = roc_curve(Y_train, optimal_model.predict_proba(X_train_bow)[:,1])\n",
    "test_fpr, test_tpr, thresholds = roc_curve(Y_test, optimal_model.predict_proba(X_test_bow)[:,1])\n",
    "AUC5=str(auc(test_fpr, test_tpr))\n",
    "plt.plot(train_fpr, train_tpr, label=\"train AUC =\"+str(auc(train_fpr, train_tpr)))\n",
    "plt.plot(test_fpr, test_tpr, label=\"test AUC =\"+str(auc(test_fpr, test_tpr)))\n",
    "plt.legend()\n",
    "plt.xlabel(\"Gamma: hyperparameter\")\n",
    "plt.ylabel(\"AUC\")\n",
    "plt.title(\"ERROR PLOTS\")\n",
    "plt.show()"
   ]
  },
  {
   "cell_type": "code",
   "execution_count": 74,
   "metadata": {
    "colab": {
     "base_uri": "https://localhost:8080/",
     "height": 626
    },
    "colab_type": "code",
    "id": "WHMfV1xxRaBP",
    "outputId": "9421ceb2-001a-4904-f5c7-f6a750588a61"
   },
   "outputs": [
    {
     "name": "stdout",
     "output_type": "stream",
     "text": [
      "confusion_matrix for train_data\n"
     ]
    },
    {
     "data": {
      "image/png": "[encoded data removed]",
      "text/plain": [
       "<Figure size 432x288 with 2 Axes>"
      ]
     },
     "metadata": {
      "tags": []
     },
     "output_type": "display_data"
    },
    {
     "name": "stdout",
     "output_type": "stream",
     "text": [
      "********************\n",
      "confusion_matrix for test_data.\n"
     ]
    },
    {
     "data": {
      "image/png": "[encoded data removed]",
      "text/plain": [
       "<Figure size 432x288 with 2 Axes>"
      ]
     },
     "metadata": {
      "tags": []
     },
     "output_type": "display_data"
    }
   ],
   "source": [
    "print(\"confusion_matrix for train_data\")\n",
    "conf_matrix = confusion_matrix(Y_train,optimal_model.predict(X_train_bow))\n",
    "class_label =[0,1]\n",
    "df_conf_matrix = pd.DataFrame(conf_matrix,index=class_label,columns=class_label)\n",
    "sns.heatmap(df_conf_matrix, annot=True, fmt='d')\n",
    "plt.title(\"confusion_matrix for train\")\n",
    "plt.xlabel(\"Predicted\")\n",
    "plt.ylabel('actual')\n",
    "plt.show()\n",
    "print(\"*\"*20)\n",
    "\n",
    "print(\"confusion_matrix for test_data.\")\n",
    "conf_matrix = confusion_matrix(Y_test,optimal_model.predict(X_test_bow))\n",
    "class_label =[0,1]\n",
    "df_conf_matrix = pd.DataFrame(conf_matrix,index=class_label,columns=class_label)\n",
    "sns.heatmap(df_conf_matrix,annot=True,fmt='d')\n",
    "plt.title(\"confusion_matrix for test\")\n",
    "plt.xlabel(\"Predicted\")\n",
    "plt.ylabel('actual')\n",
    "plt.show()"
   ]
  },
  {
   "cell_type": "code",
   "execution_count": 75,
   "metadata": {
    "colab": {
     "base_uri": "https://localhost:8080/",
     "height": 175
    },
    "colab_type": "code",
    "id": "561IZU11RaBQ",
    "outputId": "ae6d4eca-e287-4a1c-af37-6512676bb4da"
   },
   "outputs": [
    {
     "name": "stdout",
     "output_type": "stream",
     "text": [
      "              precision    recall  f1-score   support\n",
      "\n",
      "           0       0.57      0.78      0.66       300\n",
      "           1       0.96      0.90      0.93      1700\n",
      "\n",
      "    accuracy                           0.88      2000\n",
      "   macro avg       0.77      0.84      0.80      2000\n",
      "weighted avg       0.90      0.88      0.89      2000\n",
      "\n"
     ]
    }
   ],
   "source": [
    "from sklearn.metrics import classification_report\n",
    "print(classification_report(Y_test,prediction))"
   ]
  },
  {
   "cell_type": "markdown",
   "metadata": {
    "colab_type": "text",
    "id": "YodozTidRaBS"
   },
   "source": [
    "### [5.2.2] Applying RBF SVM on TFIDF,<font color='red'> SET 2</font>"
   ]
  },
  {
   "cell_type": "code",
   "execution_count": 0,
   "metadata": {
    "colab": {},
    "colab_type": "code",
    "id": "u8byhHPlRaBX"
   },
   "outputs": [],
   "source": [
    "# Please write all the code with proper documentation"
   ]
  },
  {
   "cell_type": "code",
   "execution_count": 0,
   "metadata": {
    "colab": {},
    "colab_type": "code",
    "id": "r-sgRwGXRaBY"
   },
   "outputs": [],
   "source": [
    "Tfidf_vect = TfidfVectorizer(ngram_range=(1,2),min_df = 10)\n",
    "Tfidf_vect.fit(X_train)\n",
    "\n",
    "Tfidf_train = Tfidf_vect.transform(X_train)\n",
    "Tfidf_cv = Tfidf_vect.transform(X_cv)\n",
    "Tfidf_test = Tfidf_vect.transform(X_test)"
   ]
  },
  {
   "cell_type": "code",
   "execution_count": 78,
   "metadata": {
    "colab": {
     "base_uri": "https://localhost:8080/",
     "height": 313
    },
    "colab_type": "code",
    "id": "6E8p4q72RaBk",
    "outputId": "427bf6ea-ea34-44a3-e1a2-095fc975d598"
   },
   "outputs": [
    {
     "name": "stderr",
     "output_type": "stream",
     "text": [
      "100%|██████████| 9/9 [21:18<00:00, 161.25s/it]\n"
     ]
    },
    {
     "data": {
      "image/png": "[encoded data removed]",
      "text/plain": [
       "<Figure size 432x288 with 1 Axes>"
      ]
     },
     "metadata": {
      "tags": []
     },
     "output_type": "display_data"
    }
   ],
   "source": [
    "train_auc=[]\n",
    "cv_auc=[]\n",
    "import math\n",
    "gamma=[10**-4,10**-3,10**-2,10**-1,10**0,10**1,10**2,10**3,10**4]\n",
    "loggamma=[]\n",
    "for i in tqdm(gamma):\n",
    "    clf=SVC(gamma=i,probability=True,class_weight=\"balanced\")\n",
    "    clf.fit(Tfidf_train,Y_train)\n",
    "    Y_train_pred =  clf.predict_proba(Tfidf_train)[:,1]\n",
    "    Y_cv_pred =  clf.predict_proba(Tfidf_cv)[:,1]\n",
    "    \n",
    "    train_auc.append(roc_auc_score(Y_train,Y_train_pred))\n",
    "    cv_auc.append(roc_auc_score(Y_cv, Y_cv_pred))\n",
    "    \n",
    "    loggamma.append(math.log(i))\n",
    "    \n",
    "plt.plot(loggamma, train_auc, label='Train AUC')\n",
    "plt.scatter(loggamma, train_auc, label='Train AUC')\n",
    "plt.plot(loggamma, cv_auc, label='CV AUC')\n",
    "plt.scatter(loggamma, cv_auc, label='CV AUC')\n",
    "\n",
    "plt.xlabel(\"Gamma: hyperparameter\")\n",
    "plt.ylabel(\"AUC\")\n",
    "plt.title(\"ERROR PLOTS\")\n",
    "plt.show()"
   ]
  },
  {
   "cell_type": "code",
   "execution_count": 79,
   "metadata": {
    "colab": {
     "base_uri": "https://localhost:8080/",
     "height": 313
    },
    "colab_type": "code",
    "id": "3z9rL4kDRaBm",
    "outputId": "abf756b8-45b7-4143-a81c-37e6b668dd0d"
   },
   "outputs": [
    {
     "name": "stdout",
     "output_type": "stream",
     "text": [
      "Optimal number gamma:  0.01\n"
     ]
    },
    {
     "data": {
      "image/png": "[encoded data removed]",
      "text/plain": [
       "<Figure size 432x288 with 1 Axes>"
      ]
     },
     "metadata": {
      "tags": []
     },
     "output_type": "display_data"
    }
   ],
   "source": [
    "\n",
    "cv_score = []\n",
    "gamma=[0.0005,0.007,0.01]\n",
    "for k in gamma:\n",
    "    cvs = SVC(gamma=k,probability=True,class_weight=\"balanced\")\n",
    "    scores = cross_val_score(cvs, Tfidf_train, Y_train, cv=3, scoring='roc_auc')\n",
    "    cv_score.append(scores.mean())\n",
    "    \n",
    "from sklearn.svm import SVC    \n",
    "MSE = [1 - x for x in cv_score]\n",
    "optimal_gamma_2 = gamma[MSE.index(min(MSE))]\n",
    "print(\"Optimal number gamma: \", optimal_gamma_2)\n",
    "\n",
    "plt.plot(gamma, MSE)\n",
    "plt.title(\"Number of gamma and error\")\n",
    "plt.xlabel(\"Number of gamma\")\n",
    "plt.ylabel(\"Missclassifiaction error\")\n",
    "plt.show()"
   ]
  },
  {
   "cell_type": "code",
   "execution_count": 0,
   "metadata": {
    "colab": {},
    "colab_type": "code",
    "id": "6Jtt7RMaRaBn"
   },
   "outputs": [],
   "source": [
    "optimal_model = SVC(gamma=optimal_gamma_2,probability=True,class_weight=\"balanced\")\n",
    "optimal_model.fit(Tfidf_train, Y_train)\n",
    "prediction = optimal_model.predict(Tfidf_test)"
   ]
  },
  {
   "cell_type": "code",
   "execution_count": 81,
   "metadata": {
    "colab": {
     "base_uri": "https://localhost:8080/",
     "height": 295
    },
    "colab_type": "code",
    "id": "LVnjVRaxRaBp",
    "outputId": "70c5ca37-7c73-4b7c-f490-5c38e16c91b4"
   },
   "outputs": [
    {
     "data": {
      "image/png": "[encoded data removed]",
      "text/plain": [
       "<Figure size 432x288 with 1 Axes>"
      ]
     },
     "metadata": {
      "tags": []
     },
     "output_type": "display_data"
    }
   ],
   "source": [
    "train_fpr, train_tpr, thresholds = roc_curve(Y_train, optimal_model.predict_proba(Tfidf_train)[:,1])\n",
    "test_fpr, test_tpr, thresholds = roc_curve(Y_test, optimal_model.predict_proba(Tfidf_test)[:,1])\n",
    "AUC6=str(auc(test_fpr, test_tpr))\n",
    "plt.plot(train_fpr, train_tpr, label=\"train AUC =\"+str(auc(train_fpr, train_tpr)))\n",
    "plt.plot(test_fpr, test_tpr, label=\"test AUC =\"+str(auc(test_fpr, test_tpr)))\n",
    "plt.legend()\n",
    "plt.xlabel(\"Gamma: hyperparameter\")\n",
    "plt.ylabel(\"AUC\")\n",
    "plt.title(\"ERROR PLOTS\")\n",
    "plt.show()"
   ]
  },
  {
   "cell_type": "code",
   "execution_count": 82,
   "metadata": {
    "colab": {
     "base_uri": "https://localhost:8080/",
     "height": 626
    },
    "colab_type": "code",
    "id": "GatupU3WRaBt",
    "outputId": "9b7dcc72-6113-4738-e6fe-05b7ec1de2c2"
   },
   "outputs": [
    {
     "name": "stdout",
     "output_type": "stream",
     "text": [
      "confusion_matrix for train_data\n"
     ]
    },
    {
     "data": {
      "image/png": "[encoded data removed]",
      "text/plain": [
       "<Figure size 432x288 with 2 Axes>"
      ]
     },
     "metadata": {
      "tags": []
     },
     "output_type": "display_data"
    },
    {
     "name": "stdout",
     "output_type": "stream",
     "text": [
      "********************\n",
      "confusion_matrix for test_data.\n"
     ]
    },
    {
     "data": {
      "image/png": "[encoded data removed]",
      "text/plain": [
       "<Figure size 432x288 with 2 Axes>"
      ]
     },
     "metadata": {
      "tags": []
     },
     "output_type": "display_data"
    }
   ],
   "source": [
    "print(\"confusion_matrix for train_data\")\n",
    "conf_matrix = confusion_matrix(Y_train,optimal_model.predict(Tfidf_train))\n",
    "class_label =[0,1]\n",
    "df_conf_matrix = pd.DataFrame(conf_matrix,index=class_label,columns=class_label)\n",
    "sns.heatmap(df_conf_matrix, annot=True, fmt='d')\n",
    "plt.title(\"confusion_matrix for train\")\n",
    "plt.xlabel(\"Predicted\")\n",
    "plt.ylabel('actual')\n",
    "plt.show()\n",
    "print(\"*\"*20)\n",
    "\n",
    "print(\"confusion_matrix for test_data.\")\n",
    "conf_matrix = confusion_matrix(Y_test,optimal_model.predict(Tfidf_test)) \n",
    "class_label =[0,1]\n",
    "df_conf_matrix = pd.DataFrame(conf_matrix,index=class_label,columns=class_label)\n",
    "sns.heatmap(df_conf_matrix,annot=True,fmt='d')\n",
    "plt.title(\"confusion_matrix for test\")\n",
    "plt.xlabel(\"Predicted\")\n",
    "plt.ylabel('actual')\n",
    "plt.show()"
   ]
  },
  {
   "cell_type": "code",
   "execution_count": 83,
   "metadata": {
    "colab": {
     "base_uri": "https://localhost:8080/",
     "height": 175
    },
    "colab_type": "code",
    "id": "XvHVQQgcRaBw",
    "outputId": "4dda5976-40f6-4d5d-9cfc-151b9bcaa8f9"
   },
   "outputs": [
    {
     "name": "stdout",
     "output_type": "stream",
     "text": [
      "              precision    recall  f1-score   support\n",
      "\n",
      "           0       0.54      0.67      0.60       300\n",
      "           1       0.94      0.90      0.92      1700\n",
      "\n",
      "    accuracy                           0.86      2000\n",
      "   macro avg       0.74      0.79      0.76      2000\n",
      "weighted avg       0.88      0.86      0.87      2000\n",
      "\n"
     ]
    }
   ],
   "source": [
    "from sklearn.metrics import classification_report\n",
    "print(classification_report(Y_test, prediction))"
   ]
  },
  {
   "cell_type": "markdown",
   "metadata": {
    "colab_type": "text",
    "id": "sqDsaz8CRaBy"
   },
   "source": [
    "### [5.2.3]  Applying RBF SVM on AVG W2V,<font color='red'> SET 3</font>"
   ]
  },
  {
   "cell_type": "code",
   "execution_count": 84,
   "metadata": {
    "colab": {
     "base_uri": "https://localhost:8080/",
     "height": 72
    },
    "colab_type": "code",
    "id": "fmp7tpEhRaBy",
    "outputId": "76d3c92e-f756-4e9c-9b4e-615013fe587a"
   },
   "outputs": [
    {
     "name": "stdout",
     "output_type": "stream",
     "text": [
      "number of words that occured minimum 5 times  5444\n",
      "sample words  ['great', 'combination', 'sweet', 'salty', 'loved', 'addition', 'salt', 'bacon', 'product', 'arrived', 'usps', 'mail', 'good', 'condition', 'fresh', 'concentrate', 'sitting', 'store', 'shelf', 'long', 'time', 'syrup', 'turned', 'brown', 'instead', 'case', 'wondering', 'available', 'locally', 'san', 'francisco', 'asian', 'grocery', 'stores', 'safeway', 'supermarkets', 'cooking', 'think', 'local', 'distributor', 'no', 'longer', 'stocks', 'cannot', 'find', 'anywhere', 'last', 'years', 'bottle', 'smaller']\n"
     ]
    }
   ],
   "source": [
    "i=0\n",
    "list_of_sentance_train=[]\n",
    "for sentance in X_train:\n",
    "    list_of_sentance_train.append(sentance.split())\n",
    "\n",
    "# this line of code trains your w2v model on the give list of sentances\n",
    "w2v_model=Word2Vec(list_of_sentance_train,min_count=5,size=50, workers=4)\n",
    "\n",
    "w2v_words = list(w2v_model.wv.vocab)\n",
    "print(\"number of words that occured minimum 5 times \",len(w2v_words))\n",
    "print(\"sample words \", w2v_words[0:50])"
   ]
  },
  {
   "cell_type": "code",
   "execution_count": 85,
   "metadata": {
    "colab": {
     "base_uri": "https://localhost:8080/",
     "height": 193
    },
    "colab_type": "code",
    "id": "BnhZcpQJRaB7",
    "outputId": "5e8454ec-a393-41e9-bf39-18a9474ed6e6"
   },
   "outputs": [
    {
     "name": "stdout",
     "output_type": "stream",
     "text": [
      "(8000, 50)\n",
      "[-0.52551343  0.57364013 -0.20971745  0.51525145  0.32190531 -0.09438849\n",
      " -0.97525711 -0.62247328  0.13992509 -0.63614833 -0.13175059  0.12203984\n",
      " -0.21193236 -0.24215339  0.35882427  0.3780167   0.5486762  -0.86972086\n",
      " -0.84856927 -0.51507519  0.65337558  0.69638353 -0.09725385 -0.38309612\n",
      "  0.0932133   0.03482407 -0.35111676 -0.20928847 -0.10564233 -0.51703378\n",
      "  0.51145833 -0.00835496  0.30021309  0.05150623  0.04686742 -0.0053446\n",
      "  0.0970379  -0.18514578  0.33266222 -0.44630807  0.04536443  0.97103372\n",
      "  0.65704741  0.23908182  0.84882326  0.17087047 -0.10910576  0.3152634\n",
      " -0.12269867  0.3337635 ]\n"
     ]
    }
   ],
   "source": [
    "# average Word2Vec\n",
    "# compute average word2vec for each review.\n",
    "sent_vectors_train = []; # the avg-w2v for each sentence/review is stored in this list\n",
    "for sent in list_of_sentance_train: # for each review/sentence\n",
    "    sent_vec = np.zeros(50) # as word vectors are of zero length 50, you might need to change this to 300 if you use google's w2v\n",
    "    cnt_words =0; # num of words with a valid vector in the sentence/review\n",
    "    for word in sent: # for each word in a review/sentence\n",
    "        if word in w2v_words:\n",
    "            vec = w2v_model.wv[word]\n",
    "            sent_vec += vec\n",
    "            cnt_words += 1\n",
    "    if cnt_words != 0:\n",
    "        sent_vec /= cnt_words\n",
    "    sent_vectors_train.append(sent_vec)\n",
    "sent_vectors_train = np.array(sent_vectors_train)\n",
    "print(sent_vectors_train.shape)\n",
    "print(sent_vectors_train[0])"
   ]
  },
  {
   "cell_type": "code",
   "execution_count": 86,
   "metadata": {
    "colab": {
     "base_uri": "https://localhost:8080/",
     "height": 193
    },
    "colab_type": "code",
    "id": "m2llmgSERaB9",
    "outputId": "55ee2dcf-42b3-4de2-e5e3-ee306a000552"
   },
   "outputs": [
    {
     "name": "stdout",
     "output_type": "stream",
     "text": [
      "(2000, 50)\n",
      "[-0.41170207  0.15484635 -0.0925068   0.77208766  0.24660287 -0.24425865\n",
      " -0.92946136 -0.40076668  0.1840239  -0.52262364 -0.25329723 -0.34262607\n",
      " -0.22627656 -0.13361774  0.62929149  0.49949615  0.59917238 -0.60011371\n",
      " -0.53765472 -0.19673954  0.56984813  0.66306286  0.10805834 -0.73490606\n",
      "  0.08088635  0.05775672 -0.54684341 -0.14168325 -0.13850691 -0.49812158\n",
      "  0.54749354  0.14930842  0.01766097 -0.08337281 -0.13120245  0.17755022\n",
      "  0.14281289 -0.09791214  0.17523543 -0.35923661 -0.09481518  0.59497018\n",
      "  0.15310727  0.00931201  0.74387487 -0.06384385  0.06332107  0.17527618\n",
      " -0.1197736   0.02968438]\n"
     ]
    }
   ],
   "source": [
    "i=0\n",
    "list_of_sentance_cv=[]\n",
    "for sentance in X_cv:\n",
    "    list_of_sentance_cv.append(sentance.split())\n",
    "# average Word2Vec\n",
    "# compute average word2vec for each review.\n",
    "sent_vectors_cv = []; # the avg-w2v for each sentence/review is stored in this list\n",
    "for sent in list_of_sentance_cv: # for each review/sentence\n",
    "    sent_vec = np.zeros(50) # as word vectors are of zero length 50, you might need to change this to 300 if you use google's w2v\n",
    "    cnt_words =0; # num of words with a valid vector in the sentence/review\n",
    "    for word in sent: # for each word in a review/sentence\n",
    "        if word in w2v_words:\n",
    "            vec = w2v_model.wv[word]\n",
    "            sent_vec += vec\n",
    "            cnt_words += 1\n",
    "    if cnt_words != 0:\n",
    "        sent_vec /= cnt_words\n",
    "    sent_vectors_cv.append(sent_vec)\n",
    "sent_vectors_cv = np.array(sent_vectors_cv)\n",
    "print(sent_vectors_cv.shape)\n",
    "print(sent_vectors_cv[0])"
   ]
  },
  {
   "cell_type": "code",
   "execution_count": 87,
   "metadata": {
    "colab": {
     "base_uri": "https://localhost:8080/",
     "height": 193
    },
    "colab_type": "code",
    "id": "E2Tf2YPLRaCK",
    "outputId": "7d5b0d8c-eaae-4b45-ed02-1ee96ea59794"
   },
   "outputs": [
    {
     "name": "stdout",
     "output_type": "stream",
     "text": [
      "(2000, 50)\n",
      "[-0.41170207  0.15484635 -0.0925068   0.77208766  0.24660287 -0.24425865\n",
      " -0.92946136 -0.40076668  0.1840239  -0.52262364 -0.25329723 -0.34262607\n",
      " -0.22627656 -0.13361774  0.62929149  0.49949615  0.59917238 -0.60011371\n",
      " -0.53765472 -0.19673954  0.56984813  0.66306286  0.10805834 -0.73490606\n",
      "  0.08088635  0.05775672 -0.54684341 -0.14168325 -0.13850691 -0.49812158\n",
      "  0.54749354  0.14930842  0.01766097 -0.08337281 -0.13120245  0.17755022\n",
      "  0.14281289 -0.09791214  0.17523543 -0.35923661 -0.09481518  0.59497018\n",
      "  0.15310727  0.00931201  0.74387487 -0.06384385  0.06332107  0.17527618\n",
      " -0.1197736   0.02968438]\n"
     ]
    }
   ],
   "source": [
    "i=0\n",
    "list_of_sentance_test=[]\n",
    "for sentance in X_test:\n",
    "    list_of_sentance_test.append(sentance.split())\n",
    "# average Word2Vec\n",
    "# compute average word2vec for each review.\n",
    "sent_vectors_test = []; # the avg-w2v for each sentence/review is stored in this list\n",
    "for sent in list_of_sentance_test: # for each review/sentence\n",
    "    sent_vec = np.zeros(50) # as word vectors are of zero length 50, you might need to change this to 300 if you use google's w2v\n",
    "    cnt_words =0; # num of words with a valid vector in the sentence/review\n",
    "    for word in sent: # for each word in a review/sentence\n",
    "        if word in w2v_words:\n",
    "            vec = w2v_model.wv[word]\n",
    "            sent_vec += vec\n",
    "            cnt_words += 1\n",
    "    if cnt_words != 0:\n",
    "        sent_vec /= cnt_words\n",
    "    sent_vectors_test.append(sent_vec)\n",
    "sent_vectors_test = np.array(sent_vectors_test)\n",
    "print(sent_vectors_test.shape)\n",
    "print(sent_vectors_test[0])"
   ]
  },
  {
   "cell_type": "code",
   "execution_count": 88,
   "metadata": {
    "colab": {
     "base_uri": "https://localhost:8080/",
     "height": 313
    },
    "colab_type": "code",
    "id": "KXhgma80RaCM",
    "outputId": "209b2eb0-e460-4b5b-a371-fc20c5b1e861"
   },
   "outputs": [
    {
     "name": "stderr",
     "output_type": "stream",
     "text": [
      "100%|██████████| 9/9 [06:30<00:00, 47.46s/it]\n"
     ]
    },
    {
     "data": {
      "image/png": "[encoded data removed]",
      "text/plain": [
       "<Figure size 432x288 with 1 Axes>"
      ]
     },
     "metadata": {
      "tags": []
     },
     "output_type": "display_data"
    }
   ],
   "source": [
    "train_auc=[]\n",
    "cv_auc=[]\n",
    "import math\n",
    "gamma=[10**-4,10**-3,10**-2,10**-1,10**0,10**1,10**2,10**3,10**4]\n",
    "loggamma=[]\n",
    "for i in tqdm(gamma):\n",
    "    clf=SVC(gamma=i,probability=True,class_weight=\"balanced\")\n",
    "    clf.fit(sent_vectors_train,Y_train)\n",
    "   \n",
    "    Y_train_pred =  clf.predict_proba(sent_vectors_train)[:,1]\n",
    "    Y_cv_pred =  clf.predict_proba(sent_vectors_cv)[:,1]\n",
    "    \n",
    "    train_auc.append(roc_auc_score(Y_train,Y_train_pred))\n",
    "    cv_auc.append(roc_auc_score(Y_cv, Y_cv_pred))\n",
    "    \n",
    "    loggamma.append(math.log(i))\n",
    "    \n",
    "plt.plot(loggamma, train_auc, label='Train AUC')\n",
    "plt.scatter(loggamma, train_auc, label='Train AUC')\n",
    "plt.plot(loggamma, cv_auc, label='CV AUC')\n",
    "plt.scatter(loggamma, cv_auc, label='CV AUC')\n",
    "\n",
    "plt.xlabel(\"Gamma: hyperparameter\")\n",
    "plt.ylabel(\"AUC\")\n",
    "plt.title(\"ERROR PLOTS\")\n",
    "plt.show()"
   ]
  },
  {
   "cell_type": "code",
   "execution_count": 89,
   "metadata": {
    "colab": {
     "base_uri": "https://localhost:8080/",
     "height": 313
    },
    "colab_type": "code",
    "id": "qhpOJErwRaCO",
    "outputId": "4bc55c88-8007-4252-da2e-40d84107e789"
   },
   "outputs": [
    {
     "name": "stdout",
     "output_type": "stream",
     "text": [
      "Optimal number gamma:  0.01\n"
     ]
    },
    {
     "data": {
      "image/png": "[encoded data removed]",
      "text/plain": [
       "<Figure size 432x288 with 1 Axes>"
      ]
     },
     "metadata": {
      "tags": []
     },
     "output_type": "display_data"
    }
   ],
   "source": [
    "\n",
    "cv_score = []\n",
    "gamma=[0.0005,0.007,0.01]\n",
    "for k in gamma:\n",
    "    cvs = SVC(gamma=k,probability=True,class_weight=\"balanced\")\n",
    "    scores = cross_val_score(cvs, sent_vectors_train, Y_train, cv=3, scoring='roc_auc')\n",
    "    cv_score.append(scores.mean())\n",
    "    \n",
    "from sklearn.svm import SVC    \n",
    "MSE = [1 - x for x in cv_score]\n",
    "optimal_gamma_3 = gamma[MSE.index(min(MSE))]\n",
    "print(\"Optimal number gamma: \", optimal_gamma_3)\n",
    "\n",
    "plt.plot(gamma, MSE)\n",
    "plt.title(\"Number of gamma and error\")\n",
    "plt.xlabel(\"Number of gamma\")\n",
    "plt.ylabel(\"Missclassifiaction error\")\n",
    "plt.show()"
   ]
  },
  {
   "cell_type": "code",
   "execution_count": 0,
   "metadata": {
    "colab": {},
    "colab_type": "code",
    "id": "kGkFwb6PRaCQ"
   },
   "outputs": [],
   "source": [
    "optimal_model = SVC(gamma=optimal_gamma_3,probability=True,class_weight=\"balanced\")\n",
    "optimal_model.fit(sent_vectors_train, Y_train)\n",
    "prediction = optimal_model.predict(sent_vectors_test)"
   ]
  },
  {
   "cell_type": "code",
   "execution_count": 91,
   "metadata": {
    "colab": {
     "base_uri": "https://localhost:8080/",
     "height": 295
    },
    "colab_type": "code",
    "id": "ct6dapD-RaCS",
    "outputId": "52c7c9c7-0e48-417e-daa7-4e6ec6f362db"
   },
   "outputs": [
    {
     "data": {
      "image/png": "[encoded data removed]",
      "text/plain": [
       "<Figure size 432x288 with 1 Axes>"
      ]
     },
     "metadata": {
      "tags": []
     },
     "output_type": "display_data"
    }
   ],
   "source": [
    "train_fpr, train_tpr, thresholds = roc_curve(Y_train, optimal_model.predict_proba(sent_vectors_train)[:,1])\n",
    "test_fpr, test_tpr, thresholds = roc_curve(Y_test, optimal_model.predict_proba(sent_vectors_test)[:,1])\n",
    "AUC7=str(auc(test_fpr, test_tpr))\n",
    "plt.plot(train_fpr, train_tpr, label=\"train AUC =\"+str(auc(train_fpr, train_tpr)))\n",
    "plt.plot(test_fpr, test_tpr, label=\"test AUC =\"+str(auc(test_fpr, test_tpr)))\n",
    "plt.legend()\n",
    "plt.xlabel(\"gamma: hyperparameter\")\n",
    "plt.ylabel(\"AUC\")\n",
    "plt.title(\"ERROR PLOTS\")\n",
    "plt.show()"
   ]
  },
  {
   "cell_type": "code",
   "execution_count": 92,
   "metadata": {
    "colab": {
     "base_uri": "https://localhost:8080/",
     "height": 626
    },
    "colab_type": "code",
    "id": "WaXOjpjsRaCV",
    "outputId": "b1681d43-beff-4f4c-ef4f-31da8b45c365"
   },
   "outputs": [
    {
     "name": "stdout",
     "output_type": "stream",
     "text": [
      "confusion_matrix for train_data\n"
     ]
    },
    {
     "data": {
      "image/png": "[encoded data removed]",
      "text/plain": [
       "<Figure size 432x288 with 2 Axes>"
      ]
     },
     "metadata": {
      "tags": []
     },
     "output_type": "display_data"
    },
    {
     "name": "stdout",
     "output_type": "stream",
     "text": [
      "********************\n",
      "confusion_matrix for test_data.\n"
     ]
    },
    {
     "data": {
      "image/png": "[encoded data removed]",
      "text/plain": [
       "<Figure size 432x288 with 2 Axes>"
      ]
     },
     "metadata": {
      "tags": []
     },
     "output_type": "display_data"
    }
   ],
   "source": [
    "print(\"confusion_matrix for train_data\")\n",
    "conf_matrix = confusion_matrix(Y_train,optimal_model.predict(sent_vectors_train))\n",
    "class_label =[0,1]\n",
    "df_conf_matrix = pd.DataFrame(conf_matrix,index=class_label,columns=class_label)\n",
    "sns.heatmap(df_conf_matrix, annot=True, fmt='d')\n",
    "plt.title(\"confusion_matrix for train\")\n",
    "plt.xlabel(\"Predicted\")\n",
    "plt.ylabel('actual')\n",
    "plt.show()\n",
    "print(\"*\"*20)\n",
    "\n",
    "print(\"confusion_matrix for test_data.\")\n",
    "conf_matrix = confusion_matrix(Y_test,optimal_model.predict(sent_vectors_test))\n",
    "class_label =[0,1]\n",
    "df_conf_matrix = pd.DataFrame(conf_matrix,index=class_label,columns=class_label)\n",
    "sns.heatmap(df_conf_matrix,annot=True,fmt='d')\n",
    "plt.title(\"confusion_matrix for test\")\n",
    "plt.xlabel(\"Predicted\")\n",
    "plt.ylabel('actual')\n",
    "plt.show()"
   ]
  },
  {
   "cell_type": "code",
   "execution_count": 93,
   "metadata": {
    "colab": {
     "base_uri": "https://localhost:8080/",
     "height": 175
    },
    "colab_type": "code",
    "id": "y3gmLXmdRaCX",
    "outputId": "abd06578-985b-46fd-f08b-244678f573bc"
   },
   "outputs": [
    {
     "name": "stdout",
     "output_type": "stream",
     "text": [
      "              precision    recall  f1-score   support\n",
      "\n",
      "           0       0.26      0.71      0.38       300\n",
      "           1       0.93      0.64      0.75      1700\n",
      "\n",
      "    accuracy                           0.65      2000\n",
      "   macro avg       0.59      0.67      0.57      2000\n",
      "weighted avg       0.83      0.65      0.70      2000\n",
      "\n"
     ]
    }
   ],
   "source": [
    "from sklearn.metrics import classification_report\n",
    "print(classification_report(Y_test,prediction))"
   ]
  },
  {
   "cell_type": "markdown",
   "metadata": {
    "colab_type": "text",
    "id": "HXiNTdOuRaCb"
   },
   "source": [
    "### [5.2.4]  Applying RBF SVM on TFIDF W2V,<font color='red'> SET 4</font>"
   ]
  },
  {
   "cell_type": "code",
   "execution_count": 0,
   "metadata": {
    "colab": {},
    "colab_type": "code",
    "id": "OI0H8S3BRaCc"
   },
   "outputs": [],
   "source": [
    "model = TfidfVectorizer()\n",
    "Tfidf_matrix = model.fit(X_train)\n",
    "# we are converting a dictionary with word as a key, and the idf as a value\n",
    "dictionary = dict(zip(model.get_feature_names(), list(model.idf_)))"
   ]
  },
  {
   "cell_type": "code",
   "execution_count": 0,
   "metadata": {
    "colab": {},
    "colab_type": "code",
    "id": "gniA5qhWRaCe"
   },
   "outputs": [],
   "source": [
    "# TF-IDF weighted Word2Vec\n",
    "i=0\n",
    "list_of_sentance_train=[]\n",
    "for sentance in X_train:\n",
    "    list_of_sentance_train.append(sentance.split())\n",
    "tfidf_feat = Tfidf_vect.get_feature_names() # tfidf words/col-names\n",
    "# final_tf_idf is the sparse matrix with row= sentence, col=word and cell_val = tfidf\n",
    "\n",
    "tfidf_sent_vectors_train = []; # the tfidf-w2v for each sentence/review is stored in this list\n",
    "row=0;\n",
    "for sent in list_of_sentance_train: # for each review/sentence \n",
    "    sent_vec = np.zeros(50) # as word vectors are of zero length\n",
    "    weight_sum =0; # num of words with a valid vector in the sentence/review\n",
    "    for word in sent: # for each word in a review/sentence\n",
    "        if word in w2v_words and word in tfidf_feat:\n",
    "            vec = w2v_model.wv[word]\n",
    "#             tf_idf = tf_idf_matrix[row, tfidf_feat.index(word)]\n",
    "            # to reduce the computation we are \n",
    "            # dictionary[word] = idf value of word in whole courpus\n",
    "            # sent.count(word) = tf valeus of word in this review\n",
    "            tf_idf = dictionary[word]*(sent.count(word)/len(sent))\n",
    "            sent_vec += (vec * tf_idf)\n",
    "            weight_sum += tf_idf\n",
    "    if weight_sum != 0:\n",
    "        sent_vec /= weight_sum\n",
    "    tfidf_sent_vectors_train.append(sent_vec)\n",
    "    row += 1"
   ]
  },
  {
   "cell_type": "code",
   "execution_count": 0,
   "metadata": {
    "colab": {},
    "colab_type": "code",
    "id": "lgDFt_BlRaCg"
   },
   "outputs": [],
   "source": [
    "# TF-IDF weighted Word2Vec\n",
    "i=0\n",
    "list_of_sentance_cv=[]\n",
    "for sentance in X_cv:\n",
    "    list_of_sentance_cv.append(sentance.split())\n",
    "tfidf_feat = Tfidf_vect.get_feature_names() # tfidf words/col-names\n",
    "# final_tf_idf is the sparse matrix with row= sentence, col=word and cell_val = tfidf\n",
    "\n",
    "tfidf_sent_vectors_cv = []; # the tfidf-w2v for each sentence/review is stored in this list\n",
    "row=0;\n",
    "for sent in list_of_sentance_cv: # for each review/sentence \n",
    "    sent_vec = np.zeros(50) # as word vectors are of zero length\n",
    "    weight_sum =0; # num of words with a valid vector in the sentence/review\n",
    "    for word in sent: # for each word in a review/sentence\n",
    "        if word in w2v_words and word in tfidf_feat:\n",
    "            vec = w2v_model.wv[word]\n",
    "#             tf_idf = tf_idf_matrix[row, tfidf_feat.index(word)]\n",
    "            # to reduce the computation we are \n",
    "            # dictionary[word] = idf value of word in whole courpus\n",
    "            # sent.count(word) = tf valeus of word in this review\n",
    "            tf_idf = dictionary[word]*(sent.count(word)/len(sent))\n",
    "            sent_vec += (vec * tf_idf)\n",
    "            weight_sum += tf_idf\n",
    "    if weight_sum != 0:\n",
    "        sent_vec /= weight_sum\n",
    "    tfidf_sent_vectors_cv.append(sent_vec)\n",
    "    row += 1"
   ]
  },
  {
   "cell_type": "code",
   "execution_count": 0,
   "metadata": {
    "colab": {},
    "colab_type": "code",
    "id": "h6AVpJ_tRaCq"
   },
   "outputs": [],
   "source": [
    "# TF-IDF weighted Word2Vec\n",
    "i=0\n",
    "list_of_sentance_test=[]\n",
    "for sentance in X_test:\n",
    "    list_of_sentance_test.append(sentance.split())\n",
    "tfidf_feat = Tfidf_vect.get_feature_names() # tfidf words/col-names\n",
    "# final_tf_idf is the sparse matrix with row= sentence, col=word and cell_val = tfidf\n",
    "\n",
    "tfidf_sent_vectors_test = []; # the tfidf-w2v for each sentence/review is stored in this list\n",
    "row=0;\n",
    "for sent in list_of_sentance_test: # for each review/sentence \n",
    "    sent_vec = np.zeros(50) # as word vectors are of zero length\n",
    "    weight_sum =0; # num of words with a valid vector in the sentence/review\n",
    "    for word in sent: # for each word in a review/sentence\n",
    "        if word in w2v_words and word in tfidf_feat:\n",
    "            vec = w2v_model.wv[word]\n",
    "            #tf_idf = tf_idf_matrix[row, tfidf_feat.index(word)]\n",
    "            # to reduce the computation we are \n",
    "            # dictionary[word] = idf value of word in whole courpus\n",
    "            # sent.count(word) = tf valeus of word in this review\n",
    "            tf_idf = dictionary[word]*(sent.count(word)/len(sent))\n",
    "            sent_vec += (vec * tf_idf)\n",
    "            weight_sum += tf_idf\n",
    "    if weight_sum != 0:\n",
    "        sent_vec /= weight_sum\n",
    "    tfidf_sent_vectors_test.append(sent_vec)\n",
    "    row += 1"
   ]
  },
  {
   "cell_type": "code",
   "execution_count": 98,
   "metadata": {
    "colab": {
     "base_uri": "https://localhost:8080/",
     "height": 313
    },
    "colab_type": "code",
    "id": "Osok0UAPRaCr",
    "outputId": "24b0d326-3b6d-4011-ea09-a324867f8953"
   },
   "outputs": [
    {
     "name": "stderr",
     "output_type": "stream",
     "text": [
      "100%|██████████| 9/9 [06:37<00:00, 47.90s/it]\n"
     ]
    },
    {
     "data": {
      "image/png": "[encoded data removed]",
      "text/plain": [
       "<Figure size 432x288 with 1 Axes>"
      ]
     },
     "metadata": {
      "tags": []
     },
     "output_type": "display_data"
    }
   ],
   "source": [
    "train_auc=[]\n",
    "cv_auc=[]\n",
    "import math\n",
    "gamma=[10**-4,10**-3,10**-2,10**-1,10**0,10**1,10**2,10**3,10**4]\n",
    "loggamma=[]\n",
    "for i in tqdm(gamma):\n",
    "    clf=SVC(gamma=i,probability=True,class_weight=\"balanced\")\n",
    "    clf.fit(tfidf_sent_vectors_train,Y_train)\n",
    "    Y_train_pred =  clf.predict_proba(tfidf_sent_vectors_train)[:,1]\n",
    "    Y_cv_pred =  clf.predict_proba(tfidf_sent_vectors_cv)[:,1]\n",
    "    \n",
    "    train_auc.append(roc_auc_score(Y_train,Y_train_pred))\n",
    "    cv_auc.append(roc_auc_score(Y_cv, Y_cv_pred))\n",
    "    \n",
    "    loggamma.append(math.log(i))\n",
    "    \n",
    "plt.plot(loggamma, train_auc, label='Train AUC')\n",
    "plt.scatter(loggamma, train_auc, label='Train AUC')\n",
    "plt.plot(loggamma, cv_auc, label='CV AUC')\n",
    "plt.scatter(loggamma, cv_auc, label='CV AUC')\n",
    "\n",
    "plt.xlabel(\"gamma: hyperparameter\")\n",
    "plt.ylabel(\"AUC\")\n",
    "plt.title(\"ERROR PLOTS\")\n",
    "plt.show()"
   ]
  },
  {
   "cell_type": "code",
   "execution_count": 99,
   "metadata": {
    "colab": {
     "base_uri": "https://localhost:8080/",
     "height": 313
    },
    "colab_type": "code",
    "id": "l6EGc0NhRaCt",
    "outputId": "5caf3e6f-895f-4e5b-c7e4-4f66ce08b3f1"
   },
   "outputs": [
    {
     "name": "stdout",
     "output_type": "stream",
     "text": [
      "Optimal number gamma:  0.01\n"
     ]
    },
    {
     "data": {
      "image/png": "[encoded data removed]",
      "text/plain": [
       "<Figure size 432x288 with 1 Axes>"
      ]
     },
     "metadata": {
      "tags": []
     },
     "output_type": "display_data"
    }
   ],
   "source": [
    "\n",
    "cv_score = []\n",
    "gamma=[0.0005,0.007,0.01]\n",
    "for k in gamma:\n",
    "    cvs = SVC(gamma=k,probability=True,class_weight=\"balanced\")\n",
    "    scores = cross_val_score(cvs,tfidf_sent_vectors_train, Y_train, cv=3, scoring='roc_auc')\n",
    "    cv_score.append(scores.mean())\n",
    "    \n",
    "from sklearn.svm import SVC    \n",
    "MSE = [1 - x for x in cv_score]\n",
    "optimal_gamma_4 = gamma[MSE.index(min(MSE))]\n",
    "print(\"Optimal number gamma: \", optimal_gamma_4)\n",
    "\n",
    "plt.plot(gamma, MSE)\n",
    "plt.title(\"Number of gamma and error\")\n",
    "plt.xlabel(\"Number of gamma\")\n",
    "plt.ylabel(\"Missclassifiaction error\")\n",
    "plt.show()"
   ]
  },
  {
   "cell_type": "code",
   "execution_count": 0,
   "metadata": {
    "colab": {},
    "colab_type": "code",
    "id": "OKVt3Wy3RaCu"
   },
   "outputs": [],
   "source": [
    "optimal_model = SVC(gamma=optimal_gamma_4,probability=True,class_weight=\"balanced\")\n",
    "optimal_model.fit(tfidf_sent_vectors_train, Y_train)\n",
    "prediction = optimal_model.predict(tfidf_sent_vectors_test)"
   ]
  },
  {
   "cell_type": "code",
   "execution_count": 101,
   "metadata": {
    "colab": {
     "base_uri": "https://localhost:8080/",
     "height": 295
    },
    "colab_type": "code",
    "id": "RPYbTeH2RaCw",
    "outputId": "875f2154-63d9-4864-9968-fe1b82758dba"
   },
   "outputs": [
    {
     "data": {
      "image/png": "[encoded data removed]",
      "text/plain": [
       "<Figure size 432x288 with 1 Axes>"
      ]
     },
     "metadata": {
      "tags": []
     },
     "output_type": "display_data"
    }
   ],
   "source": [
    "train_fpr, train_tpr, thresholds = roc_curve(Y_train, optimal_model.predict_proba(tfidf_sent_vectors_train)[:,1])\n",
    "test_fpr, test_tpr, thresholds = roc_curve(Y_test, optimal_model.predict_proba(tfidf_sent_vectors_test)[:,1])\n",
    "AUC8=str(auc(test_fpr, test_tpr))\n",
    "plt.plot(train_fpr, train_tpr, label=\"train AUC =\"+str(auc(train_fpr, train_tpr)))\n",
    "plt.plot(test_fpr, test_tpr, label=\"test AUC =\"+str(auc(test_fpr, test_tpr)))\n",
    "plt.legend()\n",
    "plt.xlabel(\"gamma: hyperparameter\")\n",
    "plt.ylabel(\"AUC\")\n",
    "plt.title(\"ERROR PLOTS\")\n",
    "plt.show()"
   ]
  },
  {
   "cell_type": "code",
   "execution_count": 102,
   "metadata": {
    "colab": {
     "base_uri": "https://localhost:8080/",
     "height": 626
    },
    "colab_type": "code",
    "id": "pdR3IlDhRaCx",
    "outputId": "3fbeb55e-1722-4fff-e2f4-a49053b166c0"
   },
   "outputs": [
    {
     "name": "stdout",
     "output_type": "stream",
     "text": [
      "confusion_matrix for train_data\n"
     ]
    },
    {
     "data": {
      "image/png": "[encoded data removed]",
      "text/plain": [
       "<Figure size 432x288 with 2 Axes>"
      ]
     },
     "metadata": {
      "tags": []
     },
     "output_type": "display_data"
    },
    {
     "name": "stdout",
     "output_type": "stream",
     "text": [
      "********************\n",
      "confusion_matrix for test_data.\n"
     ]
    },
    {
     "data": {
      "image/png": "[encoded data removed]",
      "text/plain": [
       "<Figure size 432x288 with 2 Axes>"
      ]
     },
     "metadata": {
      "tags": []
     },
     "output_type": "display_data"
    }
   ],
   "source": [
    "print(\"confusion_matrix for train_data\")\n",
    "conf_matrix = confusion_matrix(Y_train,optimal_model.predict(tfidf_sent_vectors_train))\n",
    "class_label =[0,1]\n",
    "df_conf_matrix = pd.DataFrame(conf_matrix,index=class_label,columns=class_label)\n",
    "sns.heatmap(df_conf_matrix, annot=True, fmt='d')\n",
    "plt.title(\"confusion_matrix for train\")\n",
    "plt.xlabel(\"Predicted\")\n",
    "plt.ylabel('actual')\n",
    "plt.show()\n",
    "print(\"*\"*20)\n",
    "\n",
    "print(\"confusion_matrix for test_data.\")\n",
    "conf_matrix = confusion_matrix(Y_test,optimal_model.predict(tfidf_sent_vectors_test))\n",
    "class_label =[0,1]\n",
    "df_conf_matrix = pd.DataFrame(conf_matrix,index=class_label,columns=class_label)\n",
    "sns.heatmap(df_conf_matrix,annot=True,fmt='d')\n",
    "plt.title(\"confusion_matrix for test\")\n",
    "plt.xlabel(\"Predicted\")\n",
    "plt.ylabel('actual')\n",
    "plt.show()"
   ]
  },
  {
   "cell_type": "code",
   "execution_count": 103,
   "metadata": {
    "colab": {
     "base_uri": "https://localhost:8080/",
     "height": 175
    },
    "colab_type": "code",
    "id": "QujWM_t1RaC4",
    "outputId": "82d00646-4647-48b7-8bcf-d97ced624b06"
   },
   "outputs": [
    {
     "name": "stdout",
     "output_type": "stream",
     "text": [
      "              precision    recall  f1-score   support\n",
      "\n",
      "           0       0.26      0.66      0.37       300\n",
      "           1       0.92      0.66      0.77      1700\n",
      "\n",
      "    accuracy                           0.66      2000\n",
      "   macro avg       0.59      0.66      0.57      2000\n",
      "weighted avg       0.82      0.66      0.71      2000\n",
      "\n"
     ]
    }
   ],
   "source": [
    "from sklearn.metrics import classification_report\n",
    "print(classification_report(Y_test,prediction))"
   ]
  },
  {
   "cell_type": "code",
   "execution_count": 0,
   "metadata": {
    "colab": {},
    "colab_type": "code",
    "id": "IVH0JCIovqqd"
   },
   "outputs": [],
   "source": [
    "## [5.3] Feature Engineering Model for Length of reviews using BOW."
   ]
  },
  {
   "cell_type": "code",
   "execution_count": 0,
   "metadata": {
    "colab": {},
    "colab_type": "code",
    "id": "klAZfAPgvvcl"
   },
   "outputs": [],
   "source": [
    "######  In Feature Engineering model adding a length of reviews for feature to increasing the auc model.\n",
    "#Creating a list af length of  the words from the preprocessed reviews"
   ]
  },
  {
   "cell_type": "code",
   "execution_count": 106,
   "metadata": {
    "colab": {
     "base_uri": "https://localhost:8080/",
     "height": 52
    },
    "colab_type": "code",
    "id": "qX70ch6pvv5F",
    "outputId": "ef09c44c-7178-4dff-9361-81f9238c1016"
   },
   "outputs": [
    {
     "name": "stdout",
     "output_type": "stream",
     "text": [
      "[35, 27, 15, 53, 38]\n",
      "(364171,)\n"
     ]
    }
   ],
   "source": [
    "# Creating a list af length of  the words in preprocessed reviews\n",
    "lengths=[]\n",
    "for sentence in preprocessed_reviews:\n",
    "    lengths.append(len(sentence.split()))\n",
    "print(lengths[:5])\n",
    "lengths1=np.asarray(lengths)\n",
    "print(lengths1.shape)"
   ]
  },
  {
   "cell_type": "code",
   "execution_count": 107,
   "metadata": {
    "colab": {
     "base_uri": "https://localhost:8080/",
     "height": 70
    },
    "colab_type": "code",
    "id": "T5ISAKTEvwEI",
    "outputId": "465d4bdc-3f65-41e8-d019-fa4fe047c146"
   },
   "outputs": [
    {
     "name": "stdout",
     "output_type": "stream",
     "text": [
      "(10000,)\n",
      "(10000,)\n",
      "(10000,)\n"
     ]
    }
   ],
   "source": [
    "#Taking 15kdatapoints for the length of reviews using bow.\n",
    "final['lengths']=lengths1\n",
    "final2 = final.sample(n = 10000)\n",
    "\n",
    "\n",
    "X = final2['cleaned_text'].values\n",
    "Y = final2['Score'].values\n",
    "Z = final2['lengths'].values\n",
    "\n",
    "print(X.shape)\n",
    "print(Y.shape)\n",
    "print(Z.shape)"
   ]
  },
  {
   "cell_type": "markdown",
   "metadata": {
    "colab_type": "text",
    "id": "VS1MM3Qv0v2T"
   },
   "source": []
  },
  {
   "cell_type": "code",
   "execution_count": 108,
   "metadata": {
    "colab": {
     "base_uri": "https://localhost:8080/",
     "height": 87
    },
    "colab_type": "code",
    "id": "Uw3A6FddvwMS",
    "outputId": "f1a82c2b-e23c-45c5-8abf-35d5133b4d09"
   },
   "outputs": [
    {
     "name": "stdout",
     "output_type": "stream",
     "text": [
      "After splitting the data.\n",
      "(8000,) (8000,)\n",
      "(2000,) (2000,)\n",
      "(2000,) (2000,)\n"
     ]
    }
   ],
   "source": [
    "#Similarly perfroming train,cv & test for length of the reviews concept\n",
    "X_train,X_test,Y_train,Y_test=train_test_split(X,Y,test_size=0.2,random_state=12,shuffle=False)\n",
    "X_train,X_cv,Y_train,Y_cv=train_test_split(X,Y,test_size=0.2,random_state=12,shuffle=False)\n",
    "\n",
    "print(\"After splitting the data.\")\n",
    "print(X_train.shape,  Y_train.shape)\n",
    "print(X_cv.shape,     Y_cv.shape)\n",
    "print(X_test.shape,   Y_test.shape)"
   ]
  },
  {
   "cell_type": "code",
   "execution_count": 109,
   "metadata": {
    "colab": {
     "base_uri": "https://localhost:8080/",
     "height": 87
    },
    "colab_type": "code",
    "id": "OgItuGUswGIC",
    "outputId": "fd8dec91-0c04-46dd-9667-1953bfbc5d31"
   },
   "outputs": [
    {
     "name": "stdout",
     "output_type": "stream",
     "text": [
      "After transform\n",
      "(8000, 18143) (8000,)\n",
      "(2000, 18143) (2000,)\n",
      "(2000, 18143) (2000,)\n"
     ]
    }
   ],
   "source": [
    "vectorizer=CountVectorizer()\n",
    "vectorizer=vectorizer.fit(X_train)\n",
    "\n",
    "X_train_bow=vectorizer.transform(X_train)\n",
    "X_cv_bow=vectorizer.transform(X_cv)\n",
    "X_test_bow=vectorizer.transform(X_test)\n",
    "\n",
    "print(\"After transform\")\n",
    "print(X_train_bow.shape,  Y_train.shape)\n",
    "print(X_cv_bow.shape,    Y_cv.shape)\n",
    "print(X_test_bow.shape,   Y_test.shape)"
   ]
  },
  {
   "cell_type": "code",
   "execution_count": 110,
   "metadata": {
    "colab": {
     "base_uri": "https://localhost:8080/",
     "height": 70
    },
    "colab_type": "code",
    "id": "67DQMrqpwGS3",
    "outputId": "e29c4518-a2cd-4c1e-bc64-0f707c4639f9"
   },
   "outputs": [
    {
     "name": "stdout",
     "output_type": "stream",
     "text": [
      "(8000,) (8000,)\n",
      "(2000,) (2000,)\n",
      "(2000,) (2000,)\n"
     ]
    }
   ],
   "source": [
    "A_train,A_test,B_train,B_test = train_test_split(Z,Y,test_size =0.2,random_state=12,shuffle=False)\n",
    "A_train,A_cv,B_train,B_cv= train_test_split(Z,Y,test_size=0.2,random_state=12,shuffle= False)\n",
    "print(A_train.shape,  B_train.shape)\n",
    "print(A_cv.shape,    B_cv.shape)\n",
    "print(A_test.shape,  B_test.shape)"
   ]
  },
  {
   "cell_type": "code",
   "execution_count": 0,
   "metadata": {
    "colab": {},
    "colab_type": "code",
    "id": "FxKpuU6xwGiL"
   },
   "outputs": [],
   "source": [
    "from scipy import sparse\n",
    "from scipy.sparse import hstack"
   ]
  },
  {
   "cell_type": "code",
   "execution_count": 112,
   "metadata": {
    "colab": {
     "base_uri": "https://localhost:8080/",
     "height": 580
    },
    "colab_type": "code",
    "id": "pRoHxBuCwGui",
    "outputId": "dd5d4ced-1772-4429-f119-6ae9dd4a9920"
   },
   "outputs": [
    {
     "name": "stdout",
     "output_type": "stream",
     "text": [
      "Feature Engineering model for Train\n",
      "X_train_bow: (8000, 18143) <class 'scipy.sparse.csr.csr_matrix'>\n",
      "A_train1: (1, 8000)\n",
      "[[  0   0   0 ...   0   0  32]\n",
      " [  0   0   0 ...   0   0  12]\n",
      " [  0   0   0 ...   0   0 153]\n",
      " ...\n",
      " [  0   0   0 ...   0   0  40]\n",
      " [  0   0   0 ...   0   0  13]\n",
      " [  0   0   0 ...   0   0  24]]\n",
      "**************************************************\n",
      "Feature Engineering model for CV\n",
      "X_cv_bow: (2000, 18143)\n",
      "A_cv1: (1, 2000)\n",
      "[[ 0  0  0 ...  0  0 50]\n",
      " [ 0  0  0 ...  0  0 14]\n",
      " [ 0  0  0 ...  0  0 11]\n",
      " ...\n",
      " [ 0  0  0 ...  0  0  9]\n",
      " [ 0  0  0 ...  0  0 26]\n",
      " [ 0  0  0 ...  0  0 10]]\n",
      "**************************************************\n",
      "Feature Engineering model for Test\n",
      "X_test_bow: (2000, 18143)\n",
      "A_test1: (1, 2000)\n",
      "[[ 0  0  0 ...  0  0 50]\n",
      " [ 0  0  0 ...  0  0 14]\n",
      " [ 0  0  0 ...  0  0 11]\n",
      " ...\n",
      " [ 0  0  0 ...  0  0  9]\n",
      " [ 0  0  0 ...  0  0 26]\n",
      " [ 0  0  0 ...  0  0 10]]\n"
     ]
    }
   ],
   "source": [
    "#Training model\n",
    "\n",
    "print(\"Feature Engineering model for Train\")\n",
    "\n",
    "A_train1=sparse.csr_matrix(A_train)\n",
    "print(\"X_train_bow:\",X_train_bow.shape,type(X_train_bow))\n",
    "print(\"A_train1:\",A_train1.shape)\n",
    "\n",
    "train = hstack([X_train_bow,A_train1.T]).toarray()\n",
    "print(train)\n",
    "##################################################################################################\n",
    "print(\"*\"*50)\n",
    "print(\"Feature Engineering model for CV\")\n",
    "\n",
    "# Cross Validation model\n",
    "A_cv1=sparse.csr_matrix(A_cv)\n",
    "print(\"X_cv_bow:\",X_cv_bow.shape)\n",
    "print(\"A_cv1:\",A_cv1.shape)\n",
    " \n",
    "cv = hstack([X_cv_bow,A_cv1.T]).toarray()\n",
    "print(cv)\n",
    "###################################################################################################\n",
    "print(\"*\"*50)\n",
    "print(\"Feature Engineering model for Test\")\n",
    "\n",
    "# Testing model.\n",
    "A_test1=sparse.csr_matrix(A_test)\n",
    "\n",
    "print(\"X_test_bow:\",X_test_bow.shape)\n",
    "print(\"A_test1:\",A_test1.shape)\n",
    " \n",
    "test = hstack([X_test_bow,A_test1.T]).toarray()\n",
    "print(test)"
   ]
  },
  {
   "cell_type": "code",
   "execution_count": 113,
   "metadata": {
    "colab": {
     "base_uri": "https://localhost:8080/",
     "height": 313
    },
    "colab_type": "code",
    "id": "8mYz9JegwjU4",
    "outputId": "72959fe7-aa02-4f1d-ba59-a4f1024524f7"
   },
   "outputs": [
    {
     "name": "stderr",
     "output_type": "stream",
     "text": [
      "100%|██████████| 10/10 [02:03<00:00,  8.25s/it]\n"
     ]
    },
    {
     "data": {
      "image/png": "[encoded data removed]",
      "text/plain": [
       "<Figure size 432x288 with 1 Axes>"
      ]
     },
     "metadata": {
      "tags": []
     },
     "output_type": "display_data"
    }
   ],
   "source": [
    "train_auc=[]\n",
    "cv_auc=[]\n",
    "import math\n",
    "alpha=[10**-5,10**-4,10**-3,10**-2,10**-1,10**0,10**1,10**2,10**3,10**4]\n",
    "logalpha=[]\n",
    "\n",
    "for i in tqdm(alpha):\n",
    "    clf=SGDClassifier(alpha=i,class_weight=\"balanced\")\n",
    "    clf.fit(train,Y_train)\n",
    "    \n",
    "    ccv=CalibratedClassifierCV(clf,cv=\"prefit\")\n",
    "    ccv.fit(cv,Y_cv)\n",
    "    \n",
    "    Y_train_pred =  ccv.predict_proba(train)[:,1]\n",
    "    Y_cv_pred =  ccv.predict_proba(cv)[:,1]\n",
    "    \n",
    "    train_auc.append(roc_auc_score(Y_train,Y_train_pred))\n",
    "    cv_auc.append(roc_auc_score(Y_cv, Y_cv_pred))\n",
    "    \n",
    "    logalpha.append(math.log(i))\n",
    "    \n",
    "plt.plot(logalpha, train_auc, label='Train AUC')\n",
    "plt.scatter(logalpha, train_auc, label='Train AUC')\n",
    "plt.plot(logalpha, cv_auc, label='CV AUC')\n",
    "plt.scatter(logalpha, cv_auc, label='CV AUC')\n",
    "\n",
    "plt.xlabel(\"alpha: hyperparameter\")\n",
    "plt.ylabel(\"AUC\")\n",
    "plt.title(\"ERROR PLOTS\")\n",
    "plt.show()"
   ]
  },
  {
   "cell_type": "code",
   "execution_count": 114,
   "metadata": {
    "colab": {
     "base_uri": "https://localhost:8080/",
     "height": 313
    },
    "colab_type": "code",
    "id": "KQihmKmsxfAF",
    "outputId": "c769ac9e-a18d-4e42-9c15-90f5f4612c40"
   },
   "outputs": [
    {
     "name": "stdout",
     "output_type": "stream",
     "text": [
      "Optimal number alpha:  0.01\n"
     ]
    },
    {
     "data": {
      "image/png": "[encoded data removed]",
      "text/plain": [
       "<Figure size 432x288 with 1 Axes>"
      ]
     },
     "metadata": {
      "tags": []
     },
     "output_type": "display_data"
    }
   ],
   "source": [
    "cv_score = []\n",
    "alpha=[0.001,0.005,0.01]\n",
    "for k in alpha:\n",
    "    cvs = SGDClassifier(alpha=k,class_weight=\"balanced\")\n",
    "    scores = cross_val_score(cvs,train, Y_train, cv=10, scoring='roc_auc')\n",
    "    cv_score.append(scores.mean())\n",
    "\n",
    "# Miss classification error\n",
    "MSE = [1-x for x in cv_score]\n",
    "optimal_alpha = alpha[MSE.index(min(MSE))]\n",
    "print(\"Optimal number alpha: \", optimal_alpha)\n",
    "\n",
    "plt.plot(alpha, MSE)\n",
    "plt.title(\"Number of alpha and error\")\n",
    "plt.xlabel(\"Number of alpha\")\n",
    "plt.ylabel(\"Missclassification error\")\n",
    "plt.show()"
   ]
  },
  {
   "cell_type": "code",
   "execution_count": 0,
   "metadata": {
    "colab": {},
    "colab_type": "code",
    "id": "bzSw8IF2xgFp"
   },
   "outputs": [],
   "source": [
    "model = SGDClassifier(alpha=optimal_alpha,class_weight=\"balanced\")\n",
    "model.fit(train, Y_train)\n",
    "\n",
    "optimal_model=CalibratedClassifierCV(model,cv=\"prefit\")\n",
    "optimal_model.fit(cv,Y_cv)\n",
    "prediction = optimal_model.predict(test)"
   ]
  },
  {
   "cell_type": "code",
   "execution_count": 116,
   "metadata": {
    "colab": {
     "base_uri": "https://localhost:8080/",
     "height": 295
    },
    "colab_type": "code",
    "id": "AYWxzvxoxgQc",
    "outputId": "bf0d1501-f5a1-4285-817a-e73d1a4fee9c"
   },
   "outputs": [
    {
     "data": {
      "image/png": "[encoded data removed]",
      "text/plain": [
       "<Figure size 432x288 with 1 Axes>"
      ]
     },
     "metadata": {
      "tags": []
     },
     "output_type": "display_data"
    }
   ],
   "source": [
    "train_fpr, train_tpr, thresholds = roc_curve(Y_train, optimal_model.predict_proba(train)[:,1])\n",
    "test_fpr, test_tpr, thresholds = roc_curve(Y_test, optimal_model.predict_proba(test)[:,1])\n",
    "AUC9=str(auc(test_fpr, test_tpr))\n",
    "plt.plot(train_fpr, train_tpr, label=\"train AUC =\"+str(auc(train_fpr, train_tpr)))\n",
    "plt.plot(test_fpr, test_tpr, label=\"test AUC =\"+str(auc(test_fpr, test_tpr)))\n",
    "plt.legend()\n",
    "plt.xlabel(\"gamma: hyperparameter\")\n",
    "plt.ylabel(\"AUC\")\n",
    "plt.title(\"ERROR PLOTS\")\n",
    "plt.show()"
   ]
  },
  {
   "cell_type": "code",
   "execution_count": 117,
   "metadata": {
    "colab": {
     "base_uri": "https://localhost:8080/",
     "height": 626
    },
    "colab_type": "code",
    "id": "mmfEJl7Uxgai",
    "outputId": "7fdd7c99-06ca-4c2f-ec83-4296a2bdfca6"
   },
   "outputs": [
    {
     "name": "stdout",
     "output_type": "stream",
     "text": [
      "confusion_matrix for train_data\n"
     ]
    },
    {
     "data": {
      "image/png": "[encoded data removed]",
      "text/plain": [
       "<Figure size 432x288 with 2 Axes>"
      ]
     },
     "metadata": {
      "tags": []
     },
     "output_type": "display_data"
    },
    {
     "name": "stdout",
     "output_type": "stream",
     "text": [
      "********************\n",
      "confusion_matrix for test_data.\n"
     ]
    },
    {
     "data": {
      "image/png": "[encoded data removed]",
      "text/plain": [
       "<Figure size 432x288 with 2 Axes>"
      ]
     },
     "metadata": {
      "tags": []
     },
     "output_type": "display_data"
    }
   ],
   "source": [
    "print(\"confusion_matrix for train_data\")\n",
    "conf_matrix = confusion_matrix(Y_train,optimal_model.predict(train))\n",
    "class_label =[0,1]\n",
    "df_conf_matrix = pd.DataFrame(conf_matrix,index=class_label,columns=class_label)\n",
    "sns.heatmap(df_conf_matrix, annot=True, fmt='d')\n",
    "plt.title(\"confusion_matrix for train\")\n",
    "plt.xlabel(\"Predicted\")\n",
    "plt.ylabel('actual')\n",
    "plt.show()\n",
    "print(\"*\"*20)\n",
    "\n",
    "print(\"confusion_matrix for test_data.\")\n",
    "conf_matrix = confusion_matrix(Y_test,optimal_model.predict(test))\n",
    "class_label =[0,1]\n",
    "df_conf_matrix = pd.DataFrame(conf_matrix,index=class_label,columns=class_label)\n",
    "sns.heatmap(df_conf_matrix,annot=True,fmt='d')\n",
    "plt.title(\"confusion_matrix for test\")\n",
    "plt.xlabel(\"Predicted\")\n",
    "plt.ylabel('actual')\n",
    "plt.show()\n"
   ]
  },
  {
   "cell_type": "code",
   "execution_count": 118,
   "metadata": {
    "colab": {
     "base_uri": "https://localhost:8080/",
     "height": 175
    },
    "colab_type": "code",
    "id": "6hGElssGxglj",
    "outputId": "24083ee2-7f7c-4693-89a0-7edbf4b3b25f"
   },
   "outputs": [
    {
     "name": "stdout",
     "output_type": "stream",
     "text": [
      "              precision    recall  f1-score   support\n",
      "\n",
      "           0       0.61      0.27      0.37       330\n",
      "           1       0.87      0.97      0.92      1670\n",
      "\n",
      "    accuracy                           0.85      2000\n",
      "   macro avg       0.74      0.62      0.64      2000\n",
      "weighted avg       0.83      0.85      0.83      2000\n",
      "\n"
     ]
    }
   ],
   "source": [
    "from sklearn.metrics import classification_report\n",
    "print(classification_report(Y_test,prediction))"
   ]
  },
  {
   "cell_type": "markdown",
   "metadata": {
    "colab_type": "text",
    "id": "XsTCT0ETRaC5"
   },
   "source": [
    "# [6] Conclusions"
   ]
  },
  {
   "cell_type": "markdown",
   "metadata": {
    "colab": {},
    "colab_type": "code",
    "id": "VE_aDcqfvp2D"
   },
   "source": [
    "#### The following steps for Linear SVM & RBF SVM\n",
    "\n",
    "1.) USing 100k dataset points for Linear SVM & 10K data points for RBF SVM.\n",
    "\n",
    "2.) Splitting the dataset in to train_data,CV_data & test_data.\n",
    "\n",
    "3.) Applying Linear & RBF SVM both on BOW,TFIDF,AVG-W2V & TFIDF-W2V .\n",
    "\n",
    "5.) Plotting (train)  for the ROC_AUC_curve for both the train & CV data.now,Applying the CV_score     for the given selected range.\n",
    "\n",
    "6.)plotting MSE(MissClassificationError) to get optimal_alpha values for Linear SVM & also for the    RBF SVM.\n",
    "\n",
    "7.) Taking an Optimal_model value so that it should not Overfit or Underfit.\n",
    "\n",
    "8.)Plot(test) AUC_ROC_curve for train & test (tpr_fpr[TruePositiveRate & FalsePositiveRate]).\n",
    " \n",
    "10.)Plotting confusion matrix for both Train & Test data.\n",
    "\n",
    "11.)from all the above process obtaining the average classification report.\n",
    "\n",
    "\n",
    "\n",
    "##>>>>> from the step 2 to step 8 all these steps are repeated simalarly for (BOW,TFIDF,AVG-    W2V,TFIDF-W2V) Using linear & RBF Kernel\n",
    "\n",
    "1.)Similarly Applying the feature engineering model for the Length of review using BOW using 10k datapoints.(Same steps are followed for feature Engineering model also.)"
   ]
  },
  {
   "cell_type": "code",
   "execution_count": 134,
   "metadata": {
    "colab": {
     "base_uri": "https://localhost:8080/",
     "height": 246
    },
    "colab_type": "code",
    "id": "yINi41N33VXj",
    "outputId": "712a7dc3-954e-4a69-d2df-4a7f51ec5d68"
   },
   "outputs": [
    {
     "name": "stdout",
     "output_type": "stream",
     "text": [
      "+--------------------------+------------+-------+-------+--------------------+\n",
      "|        Vectorizer        |   Kernel   | Alpha | Gamma |        AUC         |\n",
      "+--------------------------+------------+-------+-------+--------------------+\n",
      "|           BOW            | Linear SVM | 0.001 |   -   | 0.9309158897573533 |\n",
      "|          TFIDF           | Linear SVM | 0.001 |   -   | 0.5027644710578842 |\n",
      "|         AVG-W2V          | Linear SVM | 0.001 |   -   | 0.9086831368088768 |\n",
      "|        TFIDF-W2V         | Linear SVM | 0.001 |   -   | 0.8830632245858387 |\n",
      "|           BOW            |  RBF SVM   |   -   | 0.007 | 0.9286117647058825 |\n",
      "|          TFIDF           |  RBF SVM   |   -   |  0.01 | 0.8993715686274508 |\n",
      "|         AVG-W2V          |  RBF SVM   |   -   |  0.01 | 0.7318039215686274 |\n",
      "|        TFIDF-W2V         |  RBF SVM   |   -   |  0.01 | 0.7062607843137254 |\n",
      "| Feature_Engineering(BOW) |   Linear   |  0.01 |   -   | 0.8780892759934676 |\n",
      "+--------------------------+------------+-------+-------+--------------------+\n"
     ]
    }
   ],
   "source": [
    "from prettytable import PrettyTable\n",
    "comparison = PrettyTable()\n",
    "\n",
    "comparison.field_names = [\"Vectorizer\", \"Kernel\", \"Alpha\",\"Gamma\", \"AUC\"]\n",
    "\n",
    "comparison.add_row([\"BOW\",     \"Linear SVM\",      optimal_alpha1,'-',AUC1])\n",
    "comparison.add_row([\"TFIDF\",    'Linear SVM',       optimal_alpha2,'-',AUC2])\n",
    "comparison.add_row([\"AVG-W2V\",  'Linear SVM',     optimal_alpha2,'-',AUC3])\n",
    "comparison.add_row([\"TFIDF-W2V\",'Linear SVM',    optimal_alpha2,'-',AUC4])\n",
    "\n",
    "comparison.add_row([\"BOW\",     \"RBF SVM\",'-',   optimal_gamma_1,AUC5])\n",
    "comparison.add_row([\"TFIDF\",   \"RBF SVM\",'-',  optimal_gamma_2,AUC6])\n",
    "comparison.add_row([\"AVG-W2V\",  \"RBF SVM\",'-', optimal_gamma_3,AUC7])\n",
    "comparison.add_row([\"TFIDF-W2V\",\"RBF SVM\",'-', optimal_gamma_4,AUC8])\n",
    "\n",
    "comparison.add_row([\"Feature_Engineering(BOW)\",'Linear',optimal_alpha,'-',AUC9])\n",
    "\n",
    "print(comparison)\n"
   ]
  },
  {
   "cell_type": "code",
   "execution_count": 0,
   "metadata": {
    "colab": {},
    "colab_type": "code",
    "id": "_3zw80mT3bWL"
   },
   "outputs": [],
   "source": []
  }
 ],
 "metadata": {
  "accelerator": "GPU",
  "colab": {
   "collapsed_sections": [],
   "name": "07 Amazon Fine Food Reviews Analysis_Support Vector Machines.ipynb",
   "provenance": [],
   "version": "0.3.2"
  },
  "kernelspec": {
   "display_name": "Python 3",
   "language": "python",
   "name": "python3"
  },
  "language_info": {
   "codemirror_mode": {
    "name": "ipython",
    "version": 3
   },
   "file_extension": ".py",
   "mimetype": "text/x-python",
   "name": "python",
   "nbconvert_exporter": "python",
   "pygments_lexer": "ipython3",
   "version": "3.6.5"
  }
 },
 "nbformat": 4,
 "nbformat_minor": 1
}
